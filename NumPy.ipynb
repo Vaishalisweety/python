{
  "nbformat": 4,
  "nbformat_minor": 0,
  "metadata": {
    "colab": {
      "name": "NumPy.ipynb",
      "provenance": [],
      "collapsed_sections": [],
      "authorship_tag": "ABX9TyO4jen5yMrkRE4BdH1PYPfT",
      "include_colab_link": true
    },
    "kernelspec": {
      "name": "python3",
      "display_name": "Python 3"
    },
    "language_info": {
      "name": "python"
    }
  },
  "cells": [
    {
      "cell_type": "markdown",
      "metadata": {
        "id": "view-in-github",
        "colab_type": "text"
      },
      "source": [
        "<a href=\"https://colab.research.google.com/github/Vaishalisweety/python/blob/main/NumPy.ipynb\" target=\"_parent\"><img src=\"https://colab.research.google.com/assets/colab-badge.svg\" alt=\"Open In Colab\"/></a>"
      ]
    },
    {
      "cell_type": "markdown",
      "source": [
        "NumPy "
      ],
      "metadata": {
        "id": "Xbzx2M3KX7eq"
      }
    },
    {
      "cell_type": "code",
      "execution_count": 1,
      "metadata": {
        "id": "7WcVVXIRVdaq"
      },
      "outputs": [],
      "source": [
        "import numpy as np\n"
      ]
    },
    {
      "cell_type": "code",
      "source": [
        "My_list=[2,4,6,8,10,12,14,16]\n",
        "print(My_list)"
      ],
      "metadata": {
        "colab": {
          "base_uri": "https://localhost:8080/"
        },
        "id": "1GMVZcEeYKwx",
        "outputId": "a4fb7b5e-2aa3-40ef-8fa4-a4f6511cea66"
      },
      "execution_count": 2,
      "outputs": [
        {
          "output_type": "stream",
          "name": "stdout",
          "text": [
            "[2, 4, 6, 8, 10, 12, 14, 16]\n"
          ]
        }
      ]
    },
    {
      "cell_type": "code",
      "source": [
        "List = np.array(My_list)\n",
        "print(type(List))\n",
        "print(List)"
      ],
      "metadata": {
        "colab": {
          "base_uri": "https://localhost:8080/"
        },
        "id": "V2b3uQZSYZfd",
        "outputId": "13d8107c-8b6e-4ebf-f08c-decffea29558"
      },
      "execution_count": 4,
      "outputs": [
        {
          "output_type": "stream",
          "name": "stdout",
          "text": [
            "<class 'numpy.ndarray'>\n",
            "[ 2  4  6  8 10 12 14 16]\n"
          ]
        }
      ]
    },
    {
      "cell_type": "code",
      "source": [
        "print(\"Size:\\t\" , List.size)\n",
        "print(\"Shape:\\t\", List.shape)"
      ],
      "metadata": {
        "colab": {
          "base_uri": "https://localhost:8080/"
        },
        "id": "L78D_94RYvTL",
        "outputId": "6cdbf034-ae8c-4158-d1c8-0fbce7193338"
      },
      "execution_count": 5,
      "outputs": [
        {
          "output_type": "stream",
          "name": "stdout",
          "text": [
            "Size:\t 8\n",
            "Shape:\t (8,)\n"
          ]
        }
      ]
    },
    {
      "cell_type": "code",
      "source": [
        "np.zeros(6)"
      ],
      "metadata": {
        "colab": {
          "base_uri": "https://localhost:8080/"
        },
        "id": "eESIXBG2Y6X-",
        "outputId": "3a9d6b33-6066-4fdb-fdc5-8e06994120a0"
      },
      "execution_count": 7,
      "outputs": [
        {
          "output_type": "execute_result",
          "data": {
            "text/plain": [
              "array([0., 0., 0., 0., 0., 0.])"
            ]
          },
          "metadata": {},
          "execution_count": 7
        }
      ]
    },
    {
      "cell_type": "markdown",
      "source": [
        "Multi Dim"
      ],
      "metadata": {
        "id": "HKLl6oJDZJKQ"
      }
    },
    {
      "cell_type": "code",
      "source": [
        "Height_list = [142, 162, 177, 139, 145, 165,130,120]\n",
        "print(Height_list)"
      ],
      "metadata": {
        "colab": {
          "base_uri": "https://localhost:8080/"
        },
        "id": "tz5Uc675ZP2r",
        "outputId": "2b672025-da61-4beb-b6dc-bd641a41a5c3"
      },
      "execution_count": 12,
      "outputs": [
        {
          "output_type": "stream",
          "name": "stdout",
          "text": [
            "[142, 162, 177, 139, 145, 165, 130, 120]\n"
          ]
        }
      ]
    },
    {
      "cell_type": "code",
      "source": [
        "np.array(Height_list)"
      ],
      "metadata": {
        "colab": {
          "base_uri": "https://localhost:8080/"
        },
        "id": "fL-b1fOrZtZT",
        "outputId": "be230f50-d675-41b3-e684-3ad1d27c38dc"
      },
      "execution_count": 13,
      "outputs": [
        {
          "output_type": "execute_result",
          "data": {
            "text/plain": [
              "array([142, 162, 177, 139, 145, 165, 130, 120])"
            ]
          },
          "metadata": {},
          "execution_count": 13
        }
      ]
    },
    {
      "cell_type": "code",
      "source": [
        "people = np.array([My_list, Height_list])\n",
        "\n",
        "print(\"People:\\t\" , people)\n",
        "print(\"Size:\\t\" , people.size)\n",
        "print(\"Shape:\\t\", people.shape)"
      ],
      "metadata": {
        "colab": {
          "base_uri": "https://localhost:8080/"
        },
        "id": "uvzzpHluZ928",
        "outputId": "bbb1d587-3aae-4f15-f2c4-40dcb7a5ede7"
      },
      "execution_count": 14,
      "outputs": [
        {
          "output_type": "stream",
          "name": "stdout",
          "text": [
            "People:\t [[  2   4   6   8  10  12  14  16]\n",
            " [142 162 177 139 145 165 130 120]]\n",
            "Size:\t 16\n",
            "Shape:\t (2, 8)\n"
          ]
        }
      ]
    },
    {
      "cell_type": "code",
      "source": [
        "people = people.reshape(16,1)\n",
        "print(\"People:\\t\" , people)\n",
        "print(\"Size:\\t\" , people.size)\n",
        "print(\"Shape:\\t\", people.shape)"
      ],
      "metadata": {
        "colab": {
          "base_uri": "https://localhost:8080/"
        },
        "id": "zcbohtP8adHu",
        "outputId": "ad233bdd-1446-437c-9602-2769af36e363"
      },
      "execution_count": 16,
      "outputs": [
        {
          "output_type": "stream",
          "name": "stdout",
          "text": [
            "People:\t [[  2]\n",
            " [  4]\n",
            " [  6]\n",
            " [  8]\n",
            " [ 10]\n",
            " [ 12]\n",
            " [ 14]\n",
            " [ 16]\n",
            " [142]\n",
            " [162]\n",
            " [177]\n",
            " [139]\n",
            " [145]\n",
            " [165]\n",
            " [130]\n",
            " [120]]\n",
            "Size:\t 16\n",
            "Shape:\t (16, 1)\n"
          ]
        }
      ]
    },
    {
      "cell_type": "markdown",
      "source": [
        "Exercise"
      ],
      "metadata": {
        "id": "L1qp3yeNaocJ"
      }
    },
    {
      "cell_type": "code",
      "source": [
        "oneD=[7, 9, 65, 33, 85, 99]\n",
        "print(oneD)"
      ],
      "metadata": {
        "colab": {
          "base_uri": "https://localhost:8080/"
        },
        "id": "ZghsGKiyajEy",
        "outputId": "94eb5a0d-d08b-407e-8944-464bb9eb0c45"
      },
      "execution_count": 17,
      "outputs": [
        {
          "output_type": "stream",
          "name": "stdout",
          "text": [
            "[7, 9, 65, 33, 85, 99]\n"
          ]
        }
      ]
    },
    {
      "cell_type": "code",
      "source": [
        "List = np.array(oneD)\n",
        "print(type(List))\n",
        "print(List)"
      ],
      "metadata": {
        "colab": {
          "base_uri": "https://localhost:8080/"
        },
        "id": "dKYdq2EUhn7b",
        "outputId": "4b0cf39f-86a1-4a9e-c04b-1e077224bae1"
      },
      "execution_count": 54,
      "outputs": [
        {
          "output_type": "stream",
          "name": "stdout",
          "text": [
            "<class 'numpy.ndarray'>\n",
            "[ 7  9 65 33 85 99]\n"
          ]
        }
      ]
    },
    {
      "cell_type": "code",
      "source": [
        "print(\"Size:\\t\" , List.size)\n",
        "print(\"Shape:\\t\", List.shape)"
      ],
      "metadata": {
        "colab": {
          "base_uri": "https://localhost:8080/"
        },
        "id": "k7ETH0bBhxXH",
        "outputId": "04ac82a4-5117-45f6-bdc1-c05e509cd10b"
      },
      "execution_count": 55,
      "outputs": [
        {
          "output_type": "stream",
          "name": "stdout",
          "text": [
            "Size:\t 6\n",
            "Shape:\t (6,)\n"
          ]
        }
      ]
    },
    {
      "cell_type": "code",
      "source": [
        "rows, cols = (3, 3)"
      ],
      "metadata": {
        "id": "Z6WWqRuebcAz"
      },
      "execution_count": 46,
      "outputs": []
    },
    {
      "cell_type": "code",
      "source": [
        "nparr = [[1, 2, 4], [2, 3, 0], [0, 5, 1]]\n",
        "for i in A:\n",
        "    for j in i:\n",
        "        print(j,end = \" \")\n",
        "    print()\n",
        " "
      ],
      "metadata": {
        "colab": {
          "base_uri": "https://localhost:8080/"
        },
        "id": "bjShg1m5fROL",
        "outputId": "1bfd86c7-7bd8-494b-bc4e-d788d90baed8"
      },
      "execution_count": 51,
      "outputs": [
        {
          "output_type": "stream",
          "name": "stdout",
          "text": [
            "1 2 4 \n",
            "2 3 0 \n",
            "0 5 1 \n"
          ]
        }
      ]
    },
    {
      "cell_type": "code",
      "source": [
        "people = np.array([oneD,A ])\n",
        "\n",
        "print(\"People:\\t\" , people)\n",
        "print(\"Size:\\t\" , people.size)\n",
        "print(\"Shape:\\t\", people.shape)"
      ],
      "metadata": {
        "colab": {
          "base_uri": "https://localhost:8080/"
        },
        "id": "4mAhwE7xdF02",
        "outputId": "8695f599-5988-44f6-e496-b3458e082e75"
      },
      "execution_count": 56,
      "outputs": [
        {
          "output_type": "stream",
          "name": "stdout",
          "text": [
            "People:\t [list([7, 9, 65, 33, 85, 99]) list([[1, 2, 4], [2, 3, 0], [0, 5, 1]])]\n",
            "Size:\t 2\n",
            "Shape:\t (2,)\n"
          ]
        },
        {
          "output_type": "stream",
          "name": "stderr",
          "text": [
            "/usr/local/lib/python3.7/dist-packages/ipykernel_launcher.py:1: VisibleDeprecationWarning: Creating an ndarray from ragged nested sequences (which is a list-or-tuple of lists-or-tuples-or ndarrays with different lengths or shapes) is deprecated. If you meant to do this, you must specify 'dtype=object' when creating the ndarray.\n",
            "  \"\"\"Entry point for launching an IPython kernel.\n"
          ]
        }
      ]
    },
    {
      "cell_type": "code",
      "source": [
        "people = people.reshape(2,1)\n",
        "print(\"People:\\t\" , people)\n",
        "print(\"Size:\\t\" , people.size)\n",
        "print(\"Shape:\\t\", people.shape)"
      ],
      "metadata": {
        "colab": {
          "base_uri": "https://localhost:8080/"
        },
        "id": "i-j5CJdmh8EE",
        "outputId": "aca5face-34e6-4fc2-fbd1-5c854c586bf4"
      },
      "execution_count": 58,
      "outputs": [
        {
          "output_type": "stream",
          "name": "stdout",
          "text": [
            "People:\t [[list([7, 9, 65, 33, 85, 99])]\n",
            " [list([[1, 2, 4], [2, 3, 0], [0, 5, 1]])]]\n",
            "Size:\t 2\n",
            "Shape:\t (2, 1)\n"
          ]
        }
      ]
    },
    {
      "cell_type": "markdown",
      "source": [
        "Array Generation"
      ],
      "metadata": {
        "id": "fhYpzS2hiMpx"
      }
    },
    {
      "cell_type": "code",
      "source": [
        "five_times_table = np.arange(0, 11,2)\n",
        "five_times_table"
      ],
      "metadata": {
        "colab": {
          "base_uri": "https://localhost:8080/"
        },
        "id": "Ei2DDDaOiL3J",
        "outputId": "b2112947-da76-46a9-9ead-dfc79add6f54"
      },
      "execution_count": 60,
      "outputs": [
        {
          "output_type": "execute_result",
          "data": {
            "text/plain": [
              "array([ 0,  2,  4,  6,  8, 10])"
            ]
          },
          "metadata": {},
          "execution_count": 60
        }
      ]
    },
    {
      "cell_type": "code",
      "source": [
        "five_times_table = np.arange(0, 55, 5)\n",
        "five_times_table"
      ],
      "metadata": {
        "colab": {
          "base_uri": "https://localhost:8080/"
        },
        "id": "IcHRSQp6jduL",
        "outputId": "0827204d-1303-4786-b82d-98f525bd0ade"
      },
      "execution_count": 69,
      "outputs": [
        {
          "output_type": "execute_result",
          "data": {
            "text/plain": [
              "array([ 0,  5, 10, 15, 20, 25, 30, 35, 40, 45, 50])"
            ]
          },
          "metadata": {},
          "execution_count": 69
        }
      ]
    },
    {
      "cell_type": "code",
      "source": [
        "five_spaced = np.linspace(0,50,11)\n",
        "print(five_spaced)"
      ],
      "metadata": {
        "colab": {
          "base_uri": "https://localhost:8080/"
        },
        "id": "iiTTGpJzjhGe",
        "outputId": "51e28796-4e15-48e6-ecab-ec0e5731487c"
      },
      "execution_count": 70,
      "outputs": [
        {
          "output_type": "stream",
          "name": "stdout",
          "text": [
            "[ 0.  5. 10. 15. 20. 25. 30. 35. 40. 45. 50.]\n"
          ]
        }
      ]
    },
    {
      "cell_type": "code",
      "source": [
        "five_spaced = np.linspace(0,5,10)\n",
        "print(five_spaced)"
      ],
      "metadata": {
        "colab": {
          "base_uri": "https://localhost:8080/"
        },
        "id": "HXLlX3w5iX98",
        "outputId": "a0b429c6-ab2c-49f1-f5ff-80d4de91956f"
      },
      "execution_count": 61,
      "outputs": [
        {
          "output_type": "stream",
          "name": "stdout",
          "text": [
            "[0.         0.55555556 1.11111111 1.66666667 2.22222222 2.77777778\n",
            " 3.33333333 3.88888889 4.44444444 5.        ]\n"
          ]
        }
      ]
    },
    {
      "cell_type": "code",
      "source": [
        "twoArr = np.repeat(2, 10)\n",
        "print(twoArr)"
      ],
      "metadata": {
        "colab": {
          "base_uri": "https://localhost:8080/"
        },
        "id": "OrbX3qq5ikNB",
        "outputId": "5ba39056-519b-425d-e826-7cd2196a20b4"
      },
      "execution_count": 62,
      "outputs": [
        {
          "output_type": "stream",
          "name": "stdout",
          "text": [
            "[2 2 2 2 2 2 2 2 2 2]\n"
          ]
        }
      ]
    },
    {
      "cell_type": "code",
      "source": [
        "identity_matrix = np.eye(6)\n",
        "print(identity_matrix)"
      ],
      "metadata": {
        "colab": {
          "base_uri": "https://localhost:8080/"
        },
        "id": "Rjd8aXg4jmaU",
        "outputId": "b67fdc00-5092-4465-f142-a5e18cf9b92c"
      },
      "execution_count": 71,
      "outputs": [
        {
          "output_type": "stream",
          "name": "stdout",
          "text": [
            "[[1. 0. 0. 0. 0. 0.]\n",
            " [0. 1. 0. 0. 0. 0.]\n",
            " [0. 0. 1. 0. 0. 0.]\n",
            " [0. 0. 0. 1. 0. 0.]\n",
            " [0. 0. 0. 0. 1. 0.]\n",
            " [0. 0. 0. 0. 0. 1.]]\n"
          ]
        }
      ]
    },
    {
      "cell_type": "code",
      "source": [
        "identity_matrix = np.eye(4)\n",
        "print(identity_matrix)"
      ],
      "metadata": {
        "colab": {
          "base_uri": "https://localhost:8080/"
        },
        "id": "b76_iPbIipyi",
        "outputId": "01bc4c29-7a97-4bb5-f4a7-7cd7bcc41b68"
      },
      "execution_count": 63,
      "outputs": [
        {
          "output_type": "stream",
          "name": "stdout",
          "text": [
            "[[1. 0. 0. 0.]\n",
            " [0. 1. 0. 0.]\n",
            " [0. 0. 1. 0.]\n",
            " [0. 0. 0. 1.]]\n"
          ]
        }
      ]
    },
    {
      "cell_type": "markdown",
      "source": [
        "operations"
      ],
      "metadata": {
        "id": "WnTDkjW0jPVw"
      }
    },
    {
      "cell_type": "code",
      "source": [
        "five_times_table"
      ],
      "metadata": {
        "colab": {
          "base_uri": "https://localhost:8080/"
        },
        "id": "lNR_cZ9ljQma",
        "outputId": "812a2ae1-8229-4203-b1c8-e87f76a7348f"
      },
      "execution_count": 67,
      "outputs": [
        {
          "output_type": "execute_result",
          "data": {
            "text/plain": [
              "array([ 0,  2,  4,  6,  8, 10])"
            ]
          },
          "metadata": {},
          "execution_count": 67
        }
      ]
    },
    {
      "cell_type": "code",
      "source": [
        "print(\"1:\", 2 * five_times_table)\n",
        "print(\"2:\", 10 + five_times_table)\n",
        "print(\"3:\", five_times_table - 1)\n",
        "print(\"4:\", five_times_table/5)\n",
        "print(\"5:\", five_times_table **2)\n",
        "print(\"6:\", five_times_table < 20)"
      ],
      "metadata": {
        "colab": {
          "base_uri": "https://localhost:8080/"
        },
        "id": "0nIYZvCLjV7y",
        "outputId": "1fa47bc8-b773-4ab7-be87-ce0dadb07f80"
      },
      "execution_count": 68,
      "outputs": [
        {
          "output_type": "stream",
          "name": "stdout",
          "text": [
            "1: [ 0  4  8 12 16 20]\n",
            "2: [10 12 14 16 18 20]\n",
            "3: [-1  1  3  5  7  9]\n",
            "4: [0.  0.4 0.8 1.2 1.6 2. ]\n",
            "5: [  0   4  16  36  64 100]\n",
            "6: [ True  True  True  True  True  True]\n"
          ]
        }
      ]
    },
    {
      "cell_type": "markdown",
      "source": [
        "speed test"
      ],
      "metadata": {
        "id": "jVKjNt06jw2E"
      }
    },
    {
      "cell_type": "code",
      "source": [
        "fives_list = list(range(0,5001,5))\n",
        "fives_list"
      ],
      "metadata": {
        "colab": {
          "base_uri": "https://localhost:8080/"
        },
        "id": "rJ9vg0W0jyhg",
        "outputId": "28ba534f-813c-403a-9c52-d7ddb08e9007"
      },
      "execution_count": 72,
      "outputs": [
        {
          "output_type": "execute_result",
          "data": {
            "text/plain": [
              "[0,\n",
              " 5,\n",
              " 10,\n",
              " 15,\n",
              " 20,\n",
              " 25,\n",
              " 30,\n",
              " 35,\n",
              " 40,\n",
              " 45,\n",
              " 50,\n",
              " 55,\n",
              " 60,\n",
              " 65,\n",
              " 70,\n",
              " 75,\n",
              " 80,\n",
              " 85,\n",
              " 90,\n",
              " 95,\n",
              " 100,\n",
              " 105,\n",
              " 110,\n",
              " 115,\n",
              " 120,\n",
              " 125,\n",
              " 130,\n",
              " 135,\n",
              " 140,\n",
              " 145,\n",
              " 150,\n",
              " 155,\n",
              " 160,\n",
              " 165,\n",
              " 170,\n",
              " 175,\n",
              " 180,\n",
              " 185,\n",
              " 190,\n",
              " 195,\n",
              " 200,\n",
              " 205,\n",
              " 210,\n",
              " 215,\n",
              " 220,\n",
              " 225,\n",
              " 230,\n",
              " 235,\n",
              " 240,\n",
              " 245,\n",
              " 250,\n",
              " 255,\n",
              " 260,\n",
              " 265,\n",
              " 270,\n",
              " 275,\n",
              " 280,\n",
              " 285,\n",
              " 290,\n",
              " 295,\n",
              " 300,\n",
              " 305,\n",
              " 310,\n",
              " 315,\n",
              " 320,\n",
              " 325,\n",
              " 330,\n",
              " 335,\n",
              " 340,\n",
              " 345,\n",
              " 350,\n",
              " 355,\n",
              " 360,\n",
              " 365,\n",
              " 370,\n",
              " 375,\n",
              " 380,\n",
              " 385,\n",
              " 390,\n",
              " 395,\n",
              " 400,\n",
              " 405,\n",
              " 410,\n",
              " 415,\n",
              " 420,\n",
              " 425,\n",
              " 430,\n",
              " 435,\n",
              " 440,\n",
              " 445,\n",
              " 450,\n",
              " 455,\n",
              " 460,\n",
              " 465,\n",
              " 470,\n",
              " 475,\n",
              " 480,\n",
              " 485,\n",
              " 490,\n",
              " 495,\n",
              " 500,\n",
              " 505,\n",
              " 510,\n",
              " 515,\n",
              " 520,\n",
              " 525,\n",
              " 530,\n",
              " 535,\n",
              " 540,\n",
              " 545,\n",
              " 550,\n",
              " 555,\n",
              " 560,\n",
              " 565,\n",
              " 570,\n",
              " 575,\n",
              " 580,\n",
              " 585,\n",
              " 590,\n",
              " 595,\n",
              " 600,\n",
              " 605,\n",
              " 610,\n",
              " 615,\n",
              " 620,\n",
              " 625,\n",
              " 630,\n",
              " 635,\n",
              " 640,\n",
              " 645,\n",
              " 650,\n",
              " 655,\n",
              " 660,\n",
              " 665,\n",
              " 670,\n",
              " 675,\n",
              " 680,\n",
              " 685,\n",
              " 690,\n",
              " 695,\n",
              " 700,\n",
              " 705,\n",
              " 710,\n",
              " 715,\n",
              " 720,\n",
              " 725,\n",
              " 730,\n",
              " 735,\n",
              " 740,\n",
              " 745,\n",
              " 750,\n",
              " 755,\n",
              " 760,\n",
              " 765,\n",
              " 770,\n",
              " 775,\n",
              " 780,\n",
              " 785,\n",
              " 790,\n",
              " 795,\n",
              " 800,\n",
              " 805,\n",
              " 810,\n",
              " 815,\n",
              " 820,\n",
              " 825,\n",
              " 830,\n",
              " 835,\n",
              " 840,\n",
              " 845,\n",
              " 850,\n",
              " 855,\n",
              " 860,\n",
              " 865,\n",
              " 870,\n",
              " 875,\n",
              " 880,\n",
              " 885,\n",
              " 890,\n",
              " 895,\n",
              " 900,\n",
              " 905,\n",
              " 910,\n",
              " 915,\n",
              " 920,\n",
              " 925,\n",
              " 930,\n",
              " 935,\n",
              " 940,\n",
              " 945,\n",
              " 950,\n",
              " 955,\n",
              " 960,\n",
              " 965,\n",
              " 970,\n",
              " 975,\n",
              " 980,\n",
              " 985,\n",
              " 990,\n",
              " 995,\n",
              " 1000,\n",
              " 1005,\n",
              " 1010,\n",
              " 1015,\n",
              " 1020,\n",
              " 1025,\n",
              " 1030,\n",
              " 1035,\n",
              " 1040,\n",
              " 1045,\n",
              " 1050,\n",
              " 1055,\n",
              " 1060,\n",
              " 1065,\n",
              " 1070,\n",
              " 1075,\n",
              " 1080,\n",
              " 1085,\n",
              " 1090,\n",
              " 1095,\n",
              " 1100,\n",
              " 1105,\n",
              " 1110,\n",
              " 1115,\n",
              " 1120,\n",
              " 1125,\n",
              " 1130,\n",
              " 1135,\n",
              " 1140,\n",
              " 1145,\n",
              " 1150,\n",
              " 1155,\n",
              " 1160,\n",
              " 1165,\n",
              " 1170,\n",
              " 1175,\n",
              " 1180,\n",
              " 1185,\n",
              " 1190,\n",
              " 1195,\n",
              " 1200,\n",
              " 1205,\n",
              " 1210,\n",
              " 1215,\n",
              " 1220,\n",
              " 1225,\n",
              " 1230,\n",
              " 1235,\n",
              " 1240,\n",
              " 1245,\n",
              " 1250,\n",
              " 1255,\n",
              " 1260,\n",
              " 1265,\n",
              " 1270,\n",
              " 1275,\n",
              " 1280,\n",
              " 1285,\n",
              " 1290,\n",
              " 1295,\n",
              " 1300,\n",
              " 1305,\n",
              " 1310,\n",
              " 1315,\n",
              " 1320,\n",
              " 1325,\n",
              " 1330,\n",
              " 1335,\n",
              " 1340,\n",
              " 1345,\n",
              " 1350,\n",
              " 1355,\n",
              " 1360,\n",
              " 1365,\n",
              " 1370,\n",
              " 1375,\n",
              " 1380,\n",
              " 1385,\n",
              " 1390,\n",
              " 1395,\n",
              " 1400,\n",
              " 1405,\n",
              " 1410,\n",
              " 1415,\n",
              " 1420,\n",
              " 1425,\n",
              " 1430,\n",
              " 1435,\n",
              " 1440,\n",
              " 1445,\n",
              " 1450,\n",
              " 1455,\n",
              " 1460,\n",
              " 1465,\n",
              " 1470,\n",
              " 1475,\n",
              " 1480,\n",
              " 1485,\n",
              " 1490,\n",
              " 1495,\n",
              " 1500,\n",
              " 1505,\n",
              " 1510,\n",
              " 1515,\n",
              " 1520,\n",
              " 1525,\n",
              " 1530,\n",
              " 1535,\n",
              " 1540,\n",
              " 1545,\n",
              " 1550,\n",
              " 1555,\n",
              " 1560,\n",
              " 1565,\n",
              " 1570,\n",
              " 1575,\n",
              " 1580,\n",
              " 1585,\n",
              " 1590,\n",
              " 1595,\n",
              " 1600,\n",
              " 1605,\n",
              " 1610,\n",
              " 1615,\n",
              " 1620,\n",
              " 1625,\n",
              " 1630,\n",
              " 1635,\n",
              " 1640,\n",
              " 1645,\n",
              " 1650,\n",
              " 1655,\n",
              " 1660,\n",
              " 1665,\n",
              " 1670,\n",
              " 1675,\n",
              " 1680,\n",
              " 1685,\n",
              " 1690,\n",
              " 1695,\n",
              " 1700,\n",
              " 1705,\n",
              " 1710,\n",
              " 1715,\n",
              " 1720,\n",
              " 1725,\n",
              " 1730,\n",
              " 1735,\n",
              " 1740,\n",
              " 1745,\n",
              " 1750,\n",
              " 1755,\n",
              " 1760,\n",
              " 1765,\n",
              " 1770,\n",
              " 1775,\n",
              " 1780,\n",
              " 1785,\n",
              " 1790,\n",
              " 1795,\n",
              " 1800,\n",
              " 1805,\n",
              " 1810,\n",
              " 1815,\n",
              " 1820,\n",
              " 1825,\n",
              " 1830,\n",
              " 1835,\n",
              " 1840,\n",
              " 1845,\n",
              " 1850,\n",
              " 1855,\n",
              " 1860,\n",
              " 1865,\n",
              " 1870,\n",
              " 1875,\n",
              " 1880,\n",
              " 1885,\n",
              " 1890,\n",
              " 1895,\n",
              " 1900,\n",
              " 1905,\n",
              " 1910,\n",
              " 1915,\n",
              " 1920,\n",
              " 1925,\n",
              " 1930,\n",
              " 1935,\n",
              " 1940,\n",
              " 1945,\n",
              " 1950,\n",
              " 1955,\n",
              " 1960,\n",
              " 1965,\n",
              " 1970,\n",
              " 1975,\n",
              " 1980,\n",
              " 1985,\n",
              " 1990,\n",
              " 1995,\n",
              " 2000,\n",
              " 2005,\n",
              " 2010,\n",
              " 2015,\n",
              " 2020,\n",
              " 2025,\n",
              " 2030,\n",
              " 2035,\n",
              " 2040,\n",
              " 2045,\n",
              " 2050,\n",
              " 2055,\n",
              " 2060,\n",
              " 2065,\n",
              " 2070,\n",
              " 2075,\n",
              " 2080,\n",
              " 2085,\n",
              " 2090,\n",
              " 2095,\n",
              " 2100,\n",
              " 2105,\n",
              " 2110,\n",
              " 2115,\n",
              " 2120,\n",
              " 2125,\n",
              " 2130,\n",
              " 2135,\n",
              " 2140,\n",
              " 2145,\n",
              " 2150,\n",
              " 2155,\n",
              " 2160,\n",
              " 2165,\n",
              " 2170,\n",
              " 2175,\n",
              " 2180,\n",
              " 2185,\n",
              " 2190,\n",
              " 2195,\n",
              " 2200,\n",
              " 2205,\n",
              " 2210,\n",
              " 2215,\n",
              " 2220,\n",
              " 2225,\n",
              " 2230,\n",
              " 2235,\n",
              " 2240,\n",
              " 2245,\n",
              " 2250,\n",
              " 2255,\n",
              " 2260,\n",
              " 2265,\n",
              " 2270,\n",
              " 2275,\n",
              " 2280,\n",
              " 2285,\n",
              " 2290,\n",
              " 2295,\n",
              " 2300,\n",
              " 2305,\n",
              " 2310,\n",
              " 2315,\n",
              " 2320,\n",
              " 2325,\n",
              " 2330,\n",
              " 2335,\n",
              " 2340,\n",
              " 2345,\n",
              " 2350,\n",
              " 2355,\n",
              " 2360,\n",
              " 2365,\n",
              " 2370,\n",
              " 2375,\n",
              " 2380,\n",
              " 2385,\n",
              " 2390,\n",
              " 2395,\n",
              " 2400,\n",
              " 2405,\n",
              " 2410,\n",
              " 2415,\n",
              " 2420,\n",
              " 2425,\n",
              " 2430,\n",
              " 2435,\n",
              " 2440,\n",
              " 2445,\n",
              " 2450,\n",
              " 2455,\n",
              " 2460,\n",
              " 2465,\n",
              " 2470,\n",
              " 2475,\n",
              " 2480,\n",
              " 2485,\n",
              " 2490,\n",
              " 2495,\n",
              " 2500,\n",
              " 2505,\n",
              " 2510,\n",
              " 2515,\n",
              " 2520,\n",
              " 2525,\n",
              " 2530,\n",
              " 2535,\n",
              " 2540,\n",
              " 2545,\n",
              " 2550,\n",
              " 2555,\n",
              " 2560,\n",
              " 2565,\n",
              " 2570,\n",
              " 2575,\n",
              " 2580,\n",
              " 2585,\n",
              " 2590,\n",
              " 2595,\n",
              " 2600,\n",
              " 2605,\n",
              " 2610,\n",
              " 2615,\n",
              " 2620,\n",
              " 2625,\n",
              " 2630,\n",
              " 2635,\n",
              " 2640,\n",
              " 2645,\n",
              " 2650,\n",
              " 2655,\n",
              " 2660,\n",
              " 2665,\n",
              " 2670,\n",
              " 2675,\n",
              " 2680,\n",
              " 2685,\n",
              " 2690,\n",
              " 2695,\n",
              " 2700,\n",
              " 2705,\n",
              " 2710,\n",
              " 2715,\n",
              " 2720,\n",
              " 2725,\n",
              " 2730,\n",
              " 2735,\n",
              " 2740,\n",
              " 2745,\n",
              " 2750,\n",
              " 2755,\n",
              " 2760,\n",
              " 2765,\n",
              " 2770,\n",
              " 2775,\n",
              " 2780,\n",
              " 2785,\n",
              " 2790,\n",
              " 2795,\n",
              " 2800,\n",
              " 2805,\n",
              " 2810,\n",
              " 2815,\n",
              " 2820,\n",
              " 2825,\n",
              " 2830,\n",
              " 2835,\n",
              " 2840,\n",
              " 2845,\n",
              " 2850,\n",
              " 2855,\n",
              " 2860,\n",
              " 2865,\n",
              " 2870,\n",
              " 2875,\n",
              " 2880,\n",
              " 2885,\n",
              " 2890,\n",
              " 2895,\n",
              " 2900,\n",
              " 2905,\n",
              " 2910,\n",
              " 2915,\n",
              " 2920,\n",
              " 2925,\n",
              " 2930,\n",
              " 2935,\n",
              " 2940,\n",
              " 2945,\n",
              " 2950,\n",
              " 2955,\n",
              " 2960,\n",
              " 2965,\n",
              " 2970,\n",
              " 2975,\n",
              " 2980,\n",
              " 2985,\n",
              " 2990,\n",
              " 2995,\n",
              " 3000,\n",
              " 3005,\n",
              " 3010,\n",
              " 3015,\n",
              " 3020,\n",
              " 3025,\n",
              " 3030,\n",
              " 3035,\n",
              " 3040,\n",
              " 3045,\n",
              " 3050,\n",
              " 3055,\n",
              " 3060,\n",
              " 3065,\n",
              " 3070,\n",
              " 3075,\n",
              " 3080,\n",
              " 3085,\n",
              " 3090,\n",
              " 3095,\n",
              " 3100,\n",
              " 3105,\n",
              " 3110,\n",
              " 3115,\n",
              " 3120,\n",
              " 3125,\n",
              " 3130,\n",
              " 3135,\n",
              " 3140,\n",
              " 3145,\n",
              " 3150,\n",
              " 3155,\n",
              " 3160,\n",
              " 3165,\n",
              " 3170,\n",
              " 3175,\n",
              " 3180,\n",
              " 3185,\n",
              " 3190,\n",
              " 3195,\n",
              " 3200,\n",
              " 3205,\n",
              " 3210,\n",
              " 3215,\n",
              " 3220,\n",
              " 3225,\n",
              " 3230,\n",
              " 3235,\n",
              " 3240,\n",
              " 3245,\n",
              " 3250,\n",
              " 3255,\n",
              " 3260,\n",
              " 3265,\n",
              " 3270,\n",
              " 3275,\n",
              " 3280,\n",
              " 3285,\n",
              " 3290,\n",
              " 3295,\n",
              " 3300,\n",
              " 3305,\n",
              " 3310,\n",
              " 3315,\n",
              " 3320,\n",
              " 3325,\n",
              " 3330,\n",
              " 3335,\n",
              " 3340,\n",
              " 3345,\n",
              " 3350,\n",
              " 3355,\n",
              " 3360,\n",
              " 3365,\n",
              " 3370,\n",
              " 3375,\n",
              " 3380,\n",
              " 3385,\n",
              " 3390,\n",
              " 3395,\n",
              " 3400,\n",
              " 3405,\n",
              " 3410,\n",
              " 3415,\n",
              " 3420,\n",
              " 3425,\n",
              " 3430,\n",
              " 3435,\n",
              " 3440,\n",
              " 3445,\n",
              " 3450,\n",
              " 3455,\n",
              " 3460,\n",
              " 3465,\n",
              " 3470,\n",
              " 3475,\n",
              " 3480,\n",
              " 3485,\n",
              " 3490,\n",
              " 3495,\n",
              " 3500,\n",
              " 3505,\n",
              " 3510,\n",
              " 3515,\n",
              " 3520,\n",
              " 3525,\n",
              " 3530,\n",
              " 3535,\n",
              " 3540,\n",
              " 3545,\n",
              " 3550,\n",
              " 3555,\n",
              " 3560,\n",
              " 3565,\n",
              " 3570,\n",
              " 3575,\n",
              " 3580,\n",
              " 3585,\n",
              " 3590,\n",
              " 3595,\n",
              " 3600,\n",
              " 3605,\n",
              " 3610,\n",
              " 3615,\n",
              " 3620,\n",
              " 3625,\n",
              " 3630,\n",
              " 3635,\n",
              " 3640,\n",
              " 3645,\n",
              " 3650,\n",
              " 3655,\n",
              " 3660,\n",
              " 3665,\n",
              " 3670,\n",
              " 3675,\n",
              " 3680,\n",
              " 3685,\n",
              " 3690,\n",
              " 3695,\n",
              " 3700,\n",
              " 3705,\n",
              " 3710,\n",
              " 3715,\n",
              " 3720,\n",
              " 3725,\n",
              " 3730,\n",
              " 3735,\n",
              " 3740,\n",
              " 3745,\n",
              " 3750,\n",
              " 3755,\n",
              " 3760,\n",
              " 3765,\n",
              " 3770,\n",
              " 3775,\n",
              " 3780,\n",
              " 3785,\n",
              " 3790,\n",
              " 3795,\n",
              " 3800,\n",
              " 3805,\n",
              " 3810,\n",
              " 3815,\n",
              " 3820,\n",
              " 3825,\n",
              " 3830,\n",
              " 3835,\n",
              " 3840,\n",
              " 3845,\n",
              " 3850,\n",
              " 3855,\n",
              " 3860,\n",
              " 3865,\n",
              " 3870,\n",
              " 3875,\n",
              " 3880,\n",
              " 3885,\n",
              " 3890,\n",
              " 3895,\n",
              " 3900,\n",
              " 3905,\n",
              " 3910,\n",
              " 3915,\n",
              " 3920,\n",
              " 3925,\n",
              " 3930,\n",
              " 3935,\n",
              " 3940,\n",
              " 3945,\n",
              " 3950,\n",
              " 3955,\n",
              " 3960,\n",
              " 3965,\n",
              " 3970,\n",
              " 3975,\n",
              " 3980,\n",
              " 3985,\n",
              " 3990,\n",
              " 3995,\n",
              " 4000,\n",
              " 4005,\n",
              " 4010,\n",
              " 4015,\n",
              " 4020,\n",
              " 4025,\n",
              " 4030,\n",
              " 4035,\n",
              " 4040,\n",
              " 4045,\n",
              " 4050,\n",
              " 4055,\n",
              " 4060,\n",
              " 4065,\n",
              " 4070,\n",
              " 4075,\n",
              " 4080,\n",
              " 4085,\n",
              " 4090,\n",
              " 4095,\n",
              " 4100,\n",
              " 4105,\n",
              " 4110,\n",
              " 4115,\n",
              " 4120,\n",
              " 4125,\n",
              " 4130,\n",
              " 4135,\n",
              " 4140,\n",
              " 4145,\n",
              " 4150,\n",
              " 4155,\n",
              " 4160,\n",
              " 4165,\n",
              " 4170,\n",
              " 4175,\n",
              " 4180,\n",
              " 4185,\n",
              " 4190,\n",
              " 4195,\n",
              " 4200,\n",
              " 4205,\n",
              " 4210,\n",
              " 4215,\n",
              " 4220,\n",
              " 4225,\n",
              " 4230,\n",
              " 4235,\n",
              " 4240,\n",
              " 4245,\n",
              " 4250,\n",
              " 4255,\n",
              " 4260,\n",
              " 4265,\n",
              " 4270,\n",
              " 4275,\n",
              " 4280,\n",
              " 4285,\n",
              " 4290,\n",
              " 4295,\n",
              " 4300,\n",
              " 4305,\n",
              " 4310,\n",
              " 4315,\n",
              " 4320,\n",
              " 4325,\n",
              " 4330,\n",
              " 4335,\n",
              " 4340,\n",
              " 4345,\n",
              " 4350,\n",
              " 4355,\n",
              " 4360,\n",
              " 4365,\n",
              " 4370,\n",
              " 4375,\n",
              " 4380,\n",
              " 4385,\n",
              " 4390,\n",
              " 4395,\n",
              " 4400,\n",
              " 4405,\n",
              " 4410,\n",
              " 4415,\n",
              " 4420,\n",
              " 4425,\n",
              " 4430,\n",
              " 4435,\n",
              " 4440,\n",
              " 4445,\n",
              " 4450,\n",
              " 4455,\n",
              " 4460,\n",
              " 4465,\n",
              " 4470,\n",
              " 4475,\n",
              " 4480,\n",
              " 4485,\n",
              " 4490,\n",
              " 4495,\n",
              " 4500,\n",
              " 4505,\n",
              " 4510,\n",
              " 4515,\n",
              " 4520,\n",
              " 4525,\n",
              " 4530,\n",
              " 4535,\n",
              " 4540,\n",
              " 4545,\n",
              " 4550,\n",
              " 4555,\n",
              " 4560,\n",
              " 4565,\n",
              " 4570,\n",
              " 4575,\n",
              " 4580,\n",
              " 4585,\n",
              " 4590,\n",
              " 4595,\n",
              " 4600,\n",
              " 4605,\n",
              " 4610,\n",
              " 4615,\n",
              " 4620,\n",
              " 4625,\n",
              " 4630,\n",
              " 4635,\n",
              " 4640,\n",
              " 4645,\n",
              " 4650,\n",
              " 4655,\n",
              " 4660,\n",
              " 4665,\n",
              " 4670,\n",
              " 4675,\n",
              " 4680,\n",
              " 4685,\n",
              " 4690,\n",
              " 4695,\n",
              " 4700,\n",
              " 4705,\n",
              " 4710,\n",
              " 4715,\n",
              " 4720,\n",
              " 4725,\n",
              " 4730,\n",
              " 4735,\n",
              " 4740,\n",
              " 4745,\n",
              " 4750,\n",
              " 4755,\n",
              " 4760,\n",
              " 4765,\n",
              " 4770,\n",
              " 4775,\n",
              " 4780,\n",
              " 4785,\n",
              " 4790,\n",
              " 4795,\n",
              " 4800,\n",
              " 4805,\n",
              " 4810,\n",
              " 4815,\n",
              " 4820,\n",
              " 4825,\n",
              " 4830,\n",
              " 4835,\n",
              " 4840,\n",
              " 4845,\n",
              " 4850,\n",
              " 4855,\n",
              " 4860,\n",
              " 4865,\n",
              " 4870,\n",
              " 4875,\n",
              " 4880,\n",
              " 4885,\n",
              " 4890,\n",
              " 4895,\n",
              " 4900,\n",
              " 4905,\n",
              " 4910,\n",
              " 4915,\n",
              " 4920,\n",
              " 4925,\n",
              " 4930,\n",
              " 4935,\n",
              " 4940,\n",
              " 4945,\n",
              " 4950,\n",
              " 4955,\n",
              " 4960,\n",
              " 4965,\n",
              " 4970,\n",
              " 4975,\n",
              " 4980,\n",
              " 4985,\n",
              " 4990,\n",
              " 4995,\n",
              " ...]"
            ]
          },
          "metadata": {},
          "execution_count": 72
        }
      ]
    },
    {
      "cell_type": "code",
      "source": [
        "five_times_table_lge = np.arange(0,5001,5)\n",
        "five_times_table_lge"
      ],
      "metadata": {
        "colab": {
          "base_uri": "https://localhost:8080/"
        },
        "id": "9_IkIR74j3T2",
        "outputId": "b06213f8-9f88-42e6-d2ac-24b81c5be389"
      },
      "execution_count": 73,
      "outputs": [
        {
          "output_type": "execute_result",
          "data": {
            "text/plain": [
              "array([   0,    5,   10, ..., 4990, 4995, 5000])"
            ]
          },
          "metadata": {},
          "execution_count": 73
        }
      ]
    },
    {
      "cell_type": "code",
      "source": [
        "%timeit five_times_table_lge + 5"
      ],
      "metadata": {
        "colab": {
          "base_uri": "https://localhost:8080/"
        },
        "id": "pe6O6U5kj5zj",
        "outputId": "34045833-1751-4402-82f5-e99e3311bb47"
      },
      "execution_count": 74,
      "outputs": [
        {
          "output_type": "stream",
          "name": "stdout",
          "text": [
            "1.75 µs ± 373 ns per loop (mean ± std. dev. of 7 runs, 1000000 loops each)\n"
          ]
        }
      ]
    },
    {
      "cell_type": "code",
      "source": [
        "%timeit [e + 5 for e in fives_list]"
      ],
      "metadata": {
        "colab": {
          "base_uri": "https://localhost:8080/"
        },
        "id": "hHvN4NCRj9YJ",
        "outputId": "8425403a-9ba7-4e09-f19d-ff6912213db4"
      },
      "execution_count": 75,
      "outputs": [
        {
          "output_type": "stream",
          "name": "stdout",
          "text": [
            "58.9 µs ± 2.16 µs per loop (mean ± std. dev. of 7 runs, 10000 loops each)\n"
          ]
        }
      ]
    },
    {
      "cell_type": "code",
      "source": [
        "words = np.array([\"ten\", \"nine\", \"eight\", \"seven\", \"six\"])\n",
        "\n",
        "print(np.isin(words, 'e'))\n",
        "\n",
        "print(\"e\" in words)\n",
        "[\"e\" in word for word in words]"
      ],
      "metadata": {
        "colab": {
          "base_uri": "https://localhost:8080/"
        },
        "id": "hyut-_bXkAvy",
        "outputId": "504cb62e-0d60-4c86-a434-ae0cdb77d766"
      },
      "execution_count": 76,
      "outputs": [
        {
          "output_type": "stream",
          "name": "stdout",
          "text": [
            "[False False False False False]\n",
            "False\n"
          ]
        },
        {
          "output_type": "execute_result",
          "data": {
            "text/plain": [
              "[True, True, True, True, False]"
            ]
          },
          "metadata": {},
          "execution_count": 76
        }
      ]
    },
    {
      "cell_type": "markdown",
      "source": [
        "Transpose"
      ],
      "metadata": {
        "id": "lOoYwGWLkE3h"
      }
    },
    {
      "cell_type": "code",
      "source": [
        "ages_list = [10, 5, 8, 32, 65, 43]\n",
        "print(ages_list)"
      ],
      "metadata": {
        "colab": {
          "base_uri": "https://localhost:8080/"
        },
        "id": "RQKPLCWhkhjy",
        "outputId": "e910be85-fe0e-4a86-de44-655f8a89347a"
      },
      "execution_count": 80,
      "outputs": [
        {
          "output_type": "stream",
          "name": "stdout",
          "text": [
            "[10, 5, 8, 32, 65, 43]\n"
          ]
        }
      ]
    },
    {
      "cell_type": "code",
      "source": [
        "ages = np.array(ages_list)\n",
        "print(type(ages))\n",
        "print(ages)"
      ],
      "metadata": {
        "colab": {
          "base_uri": "https://localhost:8080/"
        },
        "id": "RAPz1IFpkk9J",
        "outputId": "64bfa840-dc72-4406-9f2c-21c743608b93"
      },
      "execution_count": 81,
      "outputs": [
        {
          "output_type": "stream",
          "name": "stdout",
          "text": [
            "<class 'numpy.ndarray'>\n",
            "[10  5  8 32 65 43]\n"
          ]
        }
      ]
    },
    {
      "cell_type": "code",
      "source": [
        "print(ages)\n",
        "print(\"Size:\\t\" , ages.size)\n",
        "print(\"Shape:\\t\", ages.shape)"
      ],
      "metadata": {
        "colab": {
          "base_uri": "https://localhost:8080/"
        },
        "id": "oZ4nu05ekntE",
        "outputId": "0549ae7b-c083-42f4-be83-00d38080b00c"
      },
      "execution_count": 82,
      "outputs": [
        {
          "output_type": "stream",
          "name": "stdout",
          "text": [
            "[10  5  8 32 65 43]\n",
            "Size:\t 6\n",
            "Shape:\t (6,)\n"
          ]
        }
      ]
    },
    {
      "cell_type": "code",
      "source": [
        "weight_list = [32, 18, 26, 60, 55, 65]"
      ],
      "metadata": {
        "id": "jIDkIkiQksiG"
      },
      "execution_count": 83,
      "outputs": []
    },
    {
      "cell_type": "code",
      "source": [
        "people = np.array([ages_list, weight_list])\n",
        "\n",
        "print(\"People:\\t\" , people)\n",
        "print(\"Size:\\t\" , people.size)\n",
        "print(\"Shape:\\t\", people.shape)"
      ],
      "metadata": {
        "colab": {
          "base_uri": "https://localhost:8080/"
        },
        "id": "1uv8R5Tjkvcn",
        "outputId": "11614ea1-4d16-4ae1-c537-03c0d7f62fc1"
      },
      "execution_count": 84,
      "outputs": [
        {
          "output_type": "stream",
          "name": "stdout",
          "text": [
            "People:\t [[10  5  8 32 65 43]\n",
            " [32 18 26 60 55 65]]\n",
            "Size:\t 12\n",
            "Shape:\t (2, 6)\n"
          ]
        }
      ]
    },
    {
      "cell_type": "code",
      "source": [
        "# 2 X 6 = 1 X 12 = 4 X 3 = 3 X 4 = 12 X 1 \n",
        "\n",
        "people = people.reshape(12,1)\n",
        "print(\"People:\\t\" , people)\n",
        "print(\"Size:\\t\" , people.size)\n",
        "print(\"Shape:\\t\", people.shape)"
      ],
      "metadata": {
        "colab": {
          "base_uri": "https://localhost:8080/"
        },
        "id": "ayfuMMi4kzPa",
        "outputId": "e5801d75-eea0-47e4-8709-54db4c1f625b"
      },
      "execution_count": 85,
      "outputs": [
        {
          "output_type": "stream",
          "name": "stdout",
          "text": [
            "People:\t [[10]\n",
            " [ 5]\n",
            " [ 8]\n",
            " [32]\n",
            " [65]\n",
            " [43]\n",
            " [32]\n",
            " [18]\n",
            " [26]\n",
            " [60]\n",
            " [55]\n",
            " [65]]\n",
            "Size:\t 12\n",
            "Shape:\t (12, 1)\n"
          ]
        }
      ]
    },
    {
      "cell_type": "code",
      "source": [
        "people.shape = (2,6)\n",
        "print(people, \"\\n\")\n",
        "print(people.T)"
      ],
      "metadata": {
        "colab": {
          "base_uri": "https://localhost:8080/"
        },
        "id": "htO-celBkGZe",
        "outputId": "a944ff30-4803-4af9-af3b-72f231228442"
      },
      "execution_count": 86,
      "outputs": [
        {
          "output_type": "stream",
          "name": "stdout",
          "text": [
            "[[10  5  8 32 65 43]\n",
            " [32 18 26 60 55 65]] \n",
            "\n",
            "[[10 32]\n",
            " [ 5 18]\n",
            " [ 8 26]\n",
            " [32 60]\n",
            " [65 55]\n",
            " [43 65]]\n"
          ]
        }
      ]
    },
    {
      "cell_type": "markdown",
      "source": [
        "Data Types"
      ],
      "metadata": {
        "id": "bQnkQ49nk9qV"
      }
    },
    {
      "cell_type": "code",
      "source": [
        "people.dtype"
      ],
      "metadata": {
        "colab": {
          "base_uri": "https://localhost:8080/"
        },
        "id": "zhMdsnQplAvf",
        "outputId": "ebfe844f-eba1-43dc-9f1b-95a111c7e4ee"
      },
      "execution_count": 87,
      "outputs": [
        {
          "output_type": "execute_result",
          "data": {
            "text/plain": [
              "dtype('int64')"
            ]
          },
          "metadata": {},
          "execution_count": 87
        }
      ]
    },
    {
      "cell_type": "code",
      "source": [
        "ages_with_strings = np.array([10, 5, 8, '32', '65', '43'])\n",
        "ages_with_strings"
      ],
      "metadata": {
        "colab": {
          "base_uri": "https://localhost:8080/"
        },
        "id": "nGrqhunHlDdW",
        "outputId": "a66e7ed2-a314-4b79-f79e-65e86c4fc7f5"
      },
      "execution_count": 88,
      "outputs": [
        {
          "output_type": "execute_result",
          "data": {
            "text/plain": [
              "array(['10', '5', '8', '32', '65', '43'], dtype='<U21')"
            ]
          },
          "metadata": {},
          "execution_count": 88
        }
      ]
    },
    {
      "cell_type": "code",
      "source": [
        "ages_with_strings = np.array([10, 5, 8, '32', '65', '43'], dtype='int32')\n",
        "ages_with_strings"
      ],
      "metadata": {
        "colab": {
          "base_uri": "https://localhost:8080/"
        },
        "id": "P3pqV2JblHUP",
        "outputId": "80d86e77-fba2-403c-ded5-919a9c97a3d3"
      },
      "execution_count": 89,
      "outputs": [
        {
          "output_type": "execute_result",
          "data": {
            "text/plain": [
              "array([10,  5,  8, 32, 65, 43], dtype=int32)"
            ]
          },
          "metadata": {},
          "execution_count": 89
        }
      ]
    },
    {
      "cell_type": "code",
      "source": [
        "ages_with_strings = np.array([10, 5, 8, '32', '65', '43'])\n",
        "print(ages_with_strings)"
      ],
      "metadata": {
        "colab": {
          "base_uri": "https://localhost:8080/"
        },
        "id": "PTe1kwEFlKGo",
        "outputId": "2570031d-d16d-4765-c4e8-79fd65c873ee"
      },
      "execution_count": 90,
      "outputs": [
        {
          "output_type": "stream",
          "name": "stdout",
          "text": [
            "['10' '5' '8' '32' '65' '43']\n"
          ]
        }
      ]
    },
    {
      "cell_type": "code",
      "source": [
        "ages_with_strings.dtype = 'int32'\n",
        "print(ages_with_strings)"
      ],
      "metadata": {
        "colab": {
          "base_uri": "https://localhost:8080/"
        },
        "id": "ZSRZEBIUlNNf",
        "outputId": "73ccdbd3-cf79-4508-d7c5-fcad94f4bef7"
      },
      "execution_count": 91,
      "outputs": [
        {
          "output_type": "stream",
          "name": "stdout",
          "text": [
            "[49 48  0  0  0  0  0  0  0  0  0  0  0  0  0  0  0  0  0  0  0 53  0  0\n",
            "  0  0  0  0  0  0  0  0  0  0  0  0  0  0  0  0  0  0 56  0  0  0  0  0\n",
            "  0  0  0  0  0  0  0  0  0  0  0  0  0  0  0 51 50  0  0  0  0  0  0  0\n",
            "  0  0  0  0  0  0  0  0  0  0  0  0 54 53  0  0  0  0  0  0  0  0  0  0\n",
            "  0  0  0  0  0  0  0  0  0 52 51  0  0  0  0  0  0  0  0  0  0  0  0  0\n",
            "  0  0  0  0  0  0]\n"
          ]
        }
      ]
    },
    {
      "cell_type": "code",
      "source": [
        "ages_with_strings.size\n"
      ],
      "metadata": {
        "colab": {
          "base_uri": "https://localhost:8080/"
        },
        "id": "FuS6NEUElO2q",
        "outputId": "b97e45ed-2e17-4e02-9ae6-14da9e237ed5"
      },
      "execution_count": 92,
      "outputs": [
        {
          "output_type": "execute_result",
          "data": {
            "text/plain": [
              "126"
            ]
          },
          "metadata": {},
          "execution_count": 92
        }
      ]
    },
    {
      "cell_type": "code",
      "source": [
        "ages_with_strings.size/21"
      ],
      "metadata": {
        "colab": {
          "base_uri": "https://localhost:8080/"
        },
        "id": "p4a0PNnLlTps",
        "outputId": "4f4cf6c0-1f21-4d7d-e878-453ed2a5c957"
      },
      "execution_count": 93,
      "outputs": [
        {
          "output_type": "execute_result",
          "data": {
            "text/plain": [
              "6.0"
            ]
          },
          "metadata": {},
          "execution_count": 93
        }
      ]
    },
    {
      "cell_type": "code",
      "source": [
        "np.array([10, 5, 8, '32', '65', '43']).size"
      ],
      "metadata": {
        "colab": {
          "base_uri": "https://localhost:8080/"
        },
        "id": "I7rToKBalZ5J",
        "outputId": "62169b32-0378-48d6-9308-4b89b5e226a9"
      },
      "execution_count": 94,
      "outputs": [
        {
          "output_type": "execute_result",
          "data": {
            "text/plain": [
              "6"
            ]
          },
          "metadata": {},
          "execution_count": 94
        }
      ]
    },
    {
      "cell_type": "code",
      "source": [
        "ages_with_strings = np.array([10, 5, 8, '32', '65', '43'])\n",
        "print(ages_with_strings)\n",
        "print(ages_with_strings.astype('int32'))"
      ],
      "metadata": {
        "colab": {
          "base_uri": "https://localhost:8080/"
        },
        "id": "ogpvrYX-lcr1",
        "outputId": "d162dc12-8173-4983-8630-2af57a5e28d5"
      },
      "execution_count": 95,
      "outputs": [
        {
          "output_type": "stream",
          "name": "stdout",
          "text": [
            "['10' '5' '8' '32' '65' '43']\n",
            "[10  5  8 32 65 43]\n"
          ]
        }
      ]
    },
    {
      "cell_type": "markdown",
      "source": [
        "Exercise"
      ],
      "metadata": {
        "id": "tYtx-fLblkbR"
      }
    },
    {
      "cell_type": "code",
      "source": [
        "a = np.array([1,4,'2','5'], dtype = 'float')\n",
        "print (a)"
      ],
      "metadata": {
        "colab": {
          "base_uri": "https://localhost:8080/"
        },
        "id": "iA7PAoWIlqNL",
        "outputId": "a6301942-7948-48b4-8df6-9cd991523966"
      },
      "execution_count": 102,
      "outputs": [
        {
          "output_type": "stream",
          "name": "stdout",
          "text": [
            "[1. 4. 2. 5.]\n"
          ]
        }
      ]
    },
    {
      "cell_type": "code",
      "source": [
        "a.dtype = 'float'\n",
        "print(a)"
      ],
      "metadata": {
        "colab": {
          "base_uri": "https://localhost:8080/"
        },
        "id": "iMXMqXjqn9-b",
        "outputId": "160ab60b-e669-44de-87e9-67daea243285"
      },
      "execution_count": 103,
      "outputs": [
        {
          "output_type": "stream",
          "name": "stdout",
          "text": [
            "[1. 4. 2. 5.]\n"
          ]
        }
      ]
    },
    {
      "cell_type": "code",
      "source": [
        " array = [[1, 2, 3, 4, 5],[6, 7, 8, 9, 10],[11, 12, 13, 14, 15] ]\n",
        " array = np.array(array) \n",
        " print(array.T)"
      ],
      "metadata": {
        "colab": {
          "base_uri": "https://localhost:8080/"
        },
        "id": "vIRaVmcCoTRM",
        "outputId": "6a2daed4-6e48-4f5e-a747-ffe792fce67f"
      },
      "execution_count": 106,
      "outputs": [
        {
          "output_type": "stream",
          "name": "stdout",
          "text": [
            "[[ 1  6 11]\n",
            " [ 2  7 12]\n",
            " [ 3  8 13]\n",
            " [ 4  9 14]\n",
            " [ 5 10 15]]\n"
          ]
        }
      ]
    },
    {
      "cell_type": "code",
      "source": [
        "array.shape"
      ],
      "metadata": {
        "colab": {
          "base_uri": "https://localhost:8080/"
        },
        "id": "hCLPVV0fo1Cg",
        "outputId": "ab0edc40-5aa9-440e-e05d-3ba6176ad31c"
      },
      "execution_count": 107,
      "outputs": [
        {
          "output_type": "execute_result",
          "data": {
            "text/plain": [
              "(3, 5)"
            ]
          },
          "metadata": {},
          "execution_count": 107
        }
      ]
    },
    {
      "cell_type": "code",
      "source": [
        "array.size"
      ],
      "metadata": {
        "colab": {
          "base_uri": "https://localhost:8080/"
        },
        "id": "81uO2NJTo4-b",
        "outputId": "27614718-25bc-4298-cd67-64c2c94c77c2"
      },
      "execution_count": 108,
      "outputs": [
        {
          "output_type": "execute_result",
          "data": {
            "text/plain": [
              "15"
            ]
          },
          "metadata": {},
          "execution_count": 108
        }
      ]
    },
    {
      "cell_type": "code",
      "source": [
        "array.astype (bool)"
      ],
      "metadata": {
        "colab": {
          "base_uri": "https://localhost:8080/"
        },
        "id": "UOcJnEGnpePq",
        "outputId": "51534164-1898-4446-9343-bfbc4bdc0bb2"
      },
      "execution_count": 114,
      "outputs": [
        {
          "output_type": "execute_result",
          "data": {
            "text/plain": [
              "array([[ True,  True,  True,  True,  True],\n",
              "       [ True,  True,  True,  True,  True],\n",
              "       [ True,  True,  True,  True,  True]])"
            ]
          },
          "metadata": {},
          "execution_count": 114
        }
      ]
    },
    {
      "cell_type": "markdown",
      "source": [
        "Array Slicing Operations"
      ],
      "metadata": {
        "id": "V-2LjVM5psJI"
      }
    },
    {
      "cell_type": "code",
      "source": [
        "five_times_table"
      ],
      "metadata": {
        "colab": {
          "base_uri": "https://localhost:8080/"
        },
        "id": "JgISsq2qps1G",
        "outputId": "f8daf6bf-89aa-483e-fa38-bdda1c42733b"
      },
      "execution_count": 115,
      "outputs": [
        {
          "output_type": "execute_result",
          "data": {
            "text/plain": [
              "array([ 0,  5, 10, 15, 20, 25, 30, 35, 40, 45, 50])"
            ]
          },
          "metadata": {},
          "execution_count": 115
        }
      ]
    },
    {
      "cell_type": "code",
      "source": [
        "five_times_table[0]"
      ],
      "metadata": {
        "colab": {
          "base_uri": "https://localhost:8080/"
        },
        "id": "yDVe5pERpwVf",
        "outputId": "82ba8be6-f628-4906-f8d5-fd838b90a463"
      },
      "execution_count": 116,
      "outputs": [
        {
          "output_type": "execute_result",
          "data": {
            "text/plain": [
              "0"
            ]
          },
          "metadata": {},
          "execution_count": 116
        }
      ]
    },
    {
      "cell_type": "code",
      "source": [
        "five_times_table[-1]"
      ],
      "metadata": {
        "colab": {
          "base_uri": "https://localhost:8080/"
        },
        "id": "gxc3T1BPpyuL",
        "outputId": "287e095c-dd32-458d-eae5-d9893712f258"
      },
      "execution_count": 117,
      "outputs": [
        {
          "output_type": "execute_result",
          "data": {
            "text/plain": [
              "50"
            ]
          },
          "metadata": {},
          "execution_count": 117
        }
      ]
    },
    {
      "cell_type": "code",
      "source": [
        "five_times_table[:4]"
      ],
      "metadata": {
        "colab": {
          "base_uri": "https://localhost:8080/"
        },
        "id": "-gn-C3yup1aV",
        "outputId": "aa2bfc0b-594a-4d73-e870-43142f8a950e"
      },
      "execution_count": 118,
      "outputs": [
        {
          "output_type": "execute_result",
          "data": {
            "text/plain": [
              "array([ 0,  5, 10, 15])"
            ]
          },
          "metadata": {},
          "execution_count": 118
        }
      ]
    },
    {
      "cell_type": "code",
      "source": [
        "five_times_table[4:]"
      ],
      "metadata": {
        "colab": {
          "base_uri": "https://localhost:8080/"
        },
        "id": "gwquufSsp4o9",
        "outputId": "9fb26324-2d76-4344-e33f-5a5a6f3b631b"
      },
      "execution_count": 119,
      "outputs": [
        {
          "output_type": "execute_result",
          "data": {
            "text/plain": [
              "array([20, 25, 30, 35, 40, 45, 50])"
            ]
          },
          "metadata": {},
          "execution_count": 119
        }
      ]
    },
    {
      "cell_type": "code",
      "source": [
        "print(people)\n",
        "people[:3, :3]"
      ],
      "metadata": {
        "colab": {
          "base_uri": "https://localhost:8080/"
        },
        "id": "3_KE2y71p8xZ",
        "outputId": "6a9cf2eb-1159-4bb6-df50-8e05c72ea473"
      },
      "execution_count": 120,
      "outputs": [
        {
          "output_type": "stream",
          "name": "stdout",
          "text": [
            "[[10  5  8 32 65 43]\n",
            " [32 18 26 60 55 65]]\n"
          ]
        },
        {
          "output_type": "execute_result",
          "data": {
            "text/plain": [
              "array([[10,  5,  8],\n",
              "       [32, 18, 26]])"
            ]
          },
          "metadata": {},
          "execution_count": 120
        }
      ]
    },
    {
      "cell_type": "markdown",
      "source": [
        "Exercise"
      ],
      "metadata": {
        "id": "cCf3WG8Sp-IY"
      }
    },
    {
      "cell_type": "code",
      "source": [
        "zeros = np.zeros(50)\n",
        "print(zeros)"
      ],
      "metadata": {
        "colab": {
          "base_uri": "https://localhost:8080/"
        },
        "id": "mZn-V9ieqCpD",
        "outputId": "8b80674f-b683-4e43-e327-90c8888b9bd4"
      },
      "execution_count": 123,
      "outputs": [
        {
          "output_type": "stream",
          "name": "stdout",
          "text": [
            "[0. 0. 0. 0. 0. 0. 0. 0. 0. 0. 0. 0. 0. 0. 0. 0. 0. 0. 0. 0. 0. 0. 0. 0.\n",
            " 0. 0. 0. 0. 0. 0. 0. 0. 0. 0. 0. 0. 0. 0. 0. 0. 0. 0. 0. 0. 0. 0. 0. 0.\n",
            " 0. 0.]\n"
          ]
        }
      ]
    },
    {
      "cell_type": "code",
      "source": [
        "tworepeat=np.repeat(2,20)\n",
        "print(tworepeat)"
      ],
      "metadata": {
        "colab": {
          "base_uri": "https://localhost:8080/"
        },
        "id": "zMnFZtIhq4bK",
        "outputId": "6e65241a-b487-484d-c249-980a4e63fd5b"
      },
      "execution_count": 124,
      "outputs": [
        {
          "output_type": "stream",
          "name": "stdout",
          "text": [
            "[2 2 2 2 2 2 2 2 2 2 2 2 2 2 2 2 2 2 2 2]\n"
          ]
        }
      ]
    },
    {
      "cell_type": "code",
      "source": [
        "import math\n",
        "pi = math.pi\n",
        "print(pi)"
      ],
      "metadata": {
        "colab": {
          "base_uri": "https://localhost:8080/"
        },
        "id": "c3wjg5KTsJkt",
        "outputId": "0da30536-7978-4e40-da7b-c94d948fd971"
      },
      "execution_count": 131,
      "outputs": [
        {
          "output_type": "stream",
          "name": "stdout",
          "text": [
            "3.141592653589793\n"
          ]
        }
      ]
    },
    {
      "cell_type": "code",
      "source": [
        "step=np.arange(0,pi, 0.1)\n",
        "print(step)"
      ],
      "metadata": {
        "colab": {
          "base_uri": "https://localhost:8080/"
        },
        "id": "6yV5nEd5rgME",
        "outputId": "111928ab-91fe-4319-89ea-dac9991b544d"
      },
      "execution_count": 134,
      "outputs": [
        {
          "output_type": "stream",
          "name": "stdout",
          "text": [
            "[0.  0.1 0.2 0.3 0.4 0.5 0.6 0.7 0.8 0.9 1.  1.1 1.2 1.3 1.4 1.5 1.6 1.7\n",
            " 1.8 1.9 2.  2.1 2.2 2.3 2.4 2.5 2.6 2.7 2.8 2.9 3.  3.1]\n"
          ]
        }
      ]
    },
    {
      "cell_type": "code",
      "source": [
        "step[2:7]"
      ],
      "metadata": {
        "colab": {
          "base_uri": "https://localhost:8080/"
        },
        "id": "V7z482rUtn96",
        "outputId": "ea46cf78-7dd8-4ed5-c1c6-5721d2098595"
      },
      "execution_count": 140,
      "outputs": [
        {
          "output_type": "execute_result",
          "data": {
            "text/plain": [
              "array([0.2, 0.3, 0.4, 0.5, 0.6])"
            ]
          },
          "metadata": {},
          "execution_count": 140
        }
      ]
    },
    {
      "cell_type": "code",
      "source": [
        "np.flip(step)"
      ],
      "metadata": {
        "colab": {
          "base_uri": "https://localhost:8080/"
        },
        "id": "a3ZGoBeOu0Y4",
        "outputId": "04beb9c1-47cb-4ca6-9571-9847867cbc88"
      },
      "execution_count": 141,
      "outputs": [
        {
          "output_type": "execute_result",
          "data": {
            "text/plain": [
              "array([3.1, 3. , 2.9, 2.8, 2.7, 2.6, 2.5, 2.4, 2.3, 2.2, 2.1, 2. , 1.9,\n",
              "       1.8, 1.7, 1.6, 1.5, 1.4, 1.3, 1.2, 1.1, 1. , 0.9, 0.8, 0.7, 0.6,\n",
              "       0.5, 0.4, 0.3, 0.2, 0.1, 0. ])"
            ]
          },
          "metadata": {},
          "execution_count": 141
        }
      ]
    },
    {
      "cell_type": "code",
      "source": [
        "step[0::4]"
      ],
      "metadata": {
        "colab": {
          "base_uri": "https://localhost:8080/"
        },
        "id": "X4EoQsDUu7ZK",
        "outputId": "fee74bc2-720e-409b-fb64-54b528aacaa7"
      },
      "execution_count": 143,
      "outputs": [
        {
          "output_type": "execute_result",
          "data": {
            "text/plain": [
              "array([0. , 0.4, 0.8, 1.2, 1.6, 2. , 2.4, 2.8])"
            ]
          },
          "metadata": {},
          "execution_count": 143
        }
      ]
    },
    {
      "cell_type": "code",
      "source": [
        "step[::-2]"
      ],
      "metadata": {
        "colab": {
          "base_uri": "https://localhost:8080/"
        },
        "id": "6MN2IZibu8jn",
        "outputId": "814822b5-9965-4cc2-b074-8cef7b2451bc"
      },
      "execution_count": 144,
      "outputs": [
        {
          "output_type": "execute_result",
          "data": {
            "text/plain": [
              "array([3.1, 2.9, 2.7, 2.5, 2.3, 2.1, 1.9, 1.7, 1.5, 1.3, 1.1, 0.9, 0.7,\n",
              "       0.5, 0.3, 0.1])"
            ]
          },
          "metadata": {},
          "execution_count": 144
        }
      ]
    },
    {
      "cell_type": "code",
      "source": [
        "step[-3:]"
      ],
      "metadata": {
        "colab": {
          "base_uri": "https://localhost:8080/"
        },
        "id": "BW5kcKDOvid1",
        "outputId": "8224d01a-730c-48a9-cada-136ce82c4a03"
      },
      "execution_count": 145,
      "outputs": [
        {
          "output_type": "execute_result",
          "data": {
            "text/plain": [
              "array([2.9, 3. , 3.1])"
            ]
          },
          "metadata": {},
          "execution_count": 145
        }
      ]
    },
    {
      "cell_type": "code",
      "source": [
        "step [4:8]"
      ],
      "metadata": {
        "colab": {
          "base_uri": "https://localhost:8080/"
        },
        "id": "UC35g5HQvnjx",
        "outputId": "6fd0ceba-e07e-49c5-9e7b-357a1d000598"
      },
      "execution_count": 146,
      "outputs": [
        {
          "output_type": "execute_result",
          "data": {
            "text/plain": [
              "array([0.4, 0.5, 0.6, 0.7])"
            ]
          },
          "metadata": {},
          "execution_count": 146
        }
      ]
    },
    {
      "cell_type": "code",
      "source": [
        "reverse_five_times_table = np.flip(five_times_table)\n",
        "reverse_five_times_table"
      ],
      "metadata": {
        "colab": {
          "base_uri": "https://localhost:8080/"
        },
        "id": "7sTrYrFAvtlg",
        "outputId": "e8d018f1-e57c-4ab0-bcf2-2e66f284dd73"
      },
      "execution_count": 147,
      "outputs": [
        {
          "output_type": "execute_result",
          "data": {
            "text/plain": [
              "array([50, 45, 40, 35, 30, 25, 20, 15, 10,  5,  0])"
            ]
          },
          "metadata": {},
          "execution_count": 147
        }
      ]
    },
    {
      "cell_type": "code",
      "source": [
        "reverse_five_times_table = five_times_table[-1::-1]\n",
        "print(reverse_five_times_table)\n",
        "five_times_table"
      ],
      "metadata": {
        "colab": {
          "base_uri": "https://localhost:8080/"
        },
        "id": "3G1cWeKsvvrh",
        "outputId": "98d20d91-6c0e-4a9a-c02a-7856952e7229"
      },
      "execution_count": 148,
      "outputs": [
        {
          "output_type": "stream",
          "name": "stdout",
          "text": [
            "[50 45 40 35 30 25 20 15 10  5  0]\n"
          ]
        },
        {
          "output_type": "execute_result",
          "data": {
            "text/plain": [
              "array([ 0,  5, 10, 15, 20, 25, 30, 35, 40, 45, 50])"
            ]
          },
          "metadata": {},
          "execution_count": 148
        }
      ]
    },
    {
      "cell_type": "code",
      "source": [
        "five_times_table[0::3] #Every 3rd element starting from 0"
      ],
      "metadata": {
        "colab": {
          "base_uri": "https://localhost:8080/"
        },
        "id": "biH6iOwsvy3Q",
        "outputId": "086e75fa-088b-4aca-fce4-cac75b0b5f69"
      },
      "execution_count": 149,
      "outputs": [
        {
          "output_type": "execute_result",
          "data": {
            "text/plain": [
              "array([ 0, 15, 30, 45])"
            ]
          },
          "metadata": {},
          "execution_count": 149
        }
      ]
    },
    {
      "cell_type": "code",
      "source": [
        "reverse=np.flip(step)\n",
        "print(reverse)"
      ],
      "metadata": {
        "colab": {
          "base_uri": "https://localhost:8080/"
        },
        "id": "iEiG-WFuwC4V",
        "outputId": "a4f5d55f-ab05-458e-b5fb-97b28ffd5a72"
      },
      "execution_count": 150,
      "outputs": [
        {
          "output_type": "stream",
          "name": "stdout",
          "text": [
            "[3.1 3.  2.9 2.8 2.7 2.6 2.5 2.4 2.3 2.2 2.1 2.  1.9 1.8 1.7 1.6 1.5 1.4\n",
            " 1.3 1.2 1.1 1.  0.9 0.8 0.7 0.6 0.5 0.4 0.3 0.2 0.1 0. ]\n"
          ]
        }
      ]
    },
    {
      "cell_type": "code",
      "source": [
        "step [-1::-2]"
      ],
      "metadata": {
        "colab": {
          "base_uri": "https://localhost:8080/"
        },
        "id": "rQRtD_h1wTLv",
        "outputId": "8e8222fe-2bed-4c95-9919-e34880b8f933"
      },
      "execution_count": 151,
      "outputs": [
        {
          "output_type": "execute_result",
          "data": {
            "text/plain": [
              "array([3.1, 2.9, 2.7, 2.5, 2.3, 2.1, 1.9, 1.7, 1.5, 1.3, 1.1, 0.9, 0.7,\n",
              "       0.5, 0.3, 0.1])"
            ]
          },
          "metadata": {},
          "execution_count": 151
        }
      ]
    },
    {
      "cell_type": "markdown",
      "source": [
        "Stats"
      ],
      "metadata": {
        "id": "AHalNrsWwbho"
      }
    },
    {
      "cell_type": "code",
      "source": [
        "np.array([1.65432, 5.98765]).round(2)"
      ],
      "metadata": {
        "colab": {
          "base_uri": "https://localhost:8080/"
        },
        "id": "HSYboCM4wclI",
        "outputId": "02d14c50-b232-4f38-c67d-0a18f1ebc43c"
      },
      "execution_count": 152,
      "outputs": [
        {
          "output_type": "execute_result",
          "data": {
            "text/plain": [
              "array([1.65, 5.99])"
            ]
          },
          "metadata": {},
          "execution_count": 152
        }
      ]
    },
    {
      "cell_type": "code",
      "source": [
        "nums = np.arange(0, 4, 0.2555)"
      ],
      "metadata": {
        "id": "NOlv5IXAwf11"
      },
      "execution_count": 153,
      "outputs": []
    },
    {
      "cell_type": "markdown",
      "source": [
        "Exercise\n",
        "\n",
        "Compute min, max, sum, mean, median, variance, and standard deviation of the above array, all to to 2 decimal places."
      ],
      "metadata": {
        "id": "DgKj-AwvwnAV"
      }
    },
    {
      "cell_type": "code",
      "source": [
        "print(\"min = \", np.min(nums).round(2))\n",
        "print(\"max = \", np.max(nums).round(2))\n",
        "print(\"sum = \", np.sum(nums).round(2))\n",
        "print(\"mean = \", np.mean(nums).round(2))\n",
        "print(\"median = \", np.median(nums).round(2))\n",
        "print(\"var = \", np.var(nums).round(2))\n",
        "print(\"std = \", np.std(nums).round(2))"
      ],
      "metadata": {
        "colab": {
          "base_uri": "https://localhost:8080/"
        },
        "id": "wrVb-V2iwoTt",
        "outputId": "ca2e0515-50f9-4123-f041-fe4faeaeac8c"
      },
      "execution_count": 154,
      "outputs": [
        {
          "output_type": "stream",
          "name": "stdout",
          "text": [
            "min =  0.0\n",
            "max =  3.83\n",
            "sum =  30.66\n",
            "mean =  1.92\n",
            "median =  1.92\n",
            "var =  1.39\n",
            "std =  1.18\n"
          ]
        }
      ]
    },
    {
      "cell_type": "markdown",
      "source": [
        "Random"
      ],
      "metadata": {
        "id": "8tATGBYPwu6C"
      }
    },
    {
      "cell_type": "code",
      "source": [
        "flip = np.random.choice([0,1], 10)\n",
        "flip"
      ],
      "metadata": {
        "colab": {
          "base_uri": "https://localhost:8080/"
        },
        "id": "muSSP-Jdwvsf",
        "outputId": "6baccebb-a2fe-40cf-f3e0-d75d4b792e2c"
      },
      "execution_count": 155,
      "outputs": [
        {
          "output_type": "execute_result",
          "data": {
            "text/plain": [
              "array([0, 0, 1, 0, 0, 0, 1, 0, 1, 1])"
            ]
          },
          "metadata": {},
          "execution_count": 155
        }
      ]
    },
    {
      "cell_type": "code",
      "source": [
        "np.random.rand(10,20,9)"
      ],
      "metadata": {
        "colab": {
          "base_uri": "https://localhost:8080/"
        },
        "id": "CgH4DnpfwzSH",
        "outputId": "d91d4726-0a27-4650-eca5-e62146b60041"
      },
      "execution_count": 156,
      "outputs": [
        {
          "output_type": "execute_result",
          "data": {
            "text/plain": [
              "array([[[3.01855505e-01, 1.12840227e-01, 2.44210002e-01, ...,\n",
              "         3.43805202e-01, 2.50339459e-01, 5.97417820e-02],\n",
              "        [9.38316067e-01, 1.96030470e-01, 4.04524559e-01, ...,\n",
              "         8.83310496e-01, 4.09541196e-01, 8.87732057e-01],\n",
              "        [3.40467366e-01, 5.54405324e-01, 1.59681457e-01, ...,\n",
              "         5.12709878e-02, 4.69490837e-01, 8.42560961e-01],\n",
              "        ...,\n",
              "        [6.04408977e-01, 1.81746718e-01, 9.86177715e-01, ...,\n",
              "         6.12863594e-01, 9.18288790e-01, 4.69414386e-01],\n",
              "        [7.83317631e-01, 4.72397657e-02, 9.56873567e-01, ...,\n",
              "         8.73320536e-01, 7.89879912e-01, 9.28957642e-01],\n",
              "        [3.57013185e-01, 9.86126700e-01, 7.41090400e-01, ...,\n",
              "         5.15090280e-01, 5.54520594e-01, 3.55912736e-01]],\n",
              "\n",
              "       [[1.82012686e-01, 9.09775581e-01, 7.81000318e-01, ...,\n",
              "         2.82670955e-01, 3.17659061e-01, 6.58929854e-01],\n",
              "        [9.71354409e-01, 6.68857252e-01, 1.68685177e-01, ...,\n",
              "         7.65582357e-01, 8.56768429e-01, 4.60038389e-01],\n",
              "        [2.84438652e-01, 6.28330367e-01, 9.33980698e-01, ...,\n",
              "         2.60048348e-01, 6.26033356e-02, 2.92049426e-01],\n",
              "        ...,\n",
              "        [4.34984892e-01, 6.42242326e-01, 7.99700158e-02, ...,\n",
              "         6.35265541e-01, 1.68046864e-01, 8.70437123e-01],\n",
              "        [1.19556886e-01, 4.96117218e-01, 2.05449734e-01, ...,\n",
              "         2.17001288e-01, 9.65940563e-01, 8.12383863e-01],\n",
              "        [8.76639905e-01, 2.70701373e-01, 8.00330625e-01, ...,\n",
              "         2.59987881e-01, 1.98626654e-01, 2.41527217e-01]],\n",
              "\n",
              "       [[8.73558650e-01, 6.80507577e-01, 9.33446730e-01, ...,\n",
              "         3.71106723e-01, 7.16806785e-01, 7.19035542e-02],\n",
              "        [8.95168807e-01, 8.21462912e-01, 4.56827834e-01, ...,\n",
              "         2.84369458e-01, 1.29320073e-01, 4.20078126e-01],\n",
              "        [3.04342077e-01, 2.77363960e-01, 8.21468797e-05, ...,\n",
              "         7.06439979e-01, 1.08101092e-01, 7.91936801e-01],\n",
              "        ...,\n",
              "        [7.15283296e-01, 7.02013818e-01, 6.27241990e-02, ...,\n",
              "         6.53378535e-01, 6.78891302e-01, 3.72596531e-01],\n",
              "        [9.56063595e-01, 1.85727246e-01, 2.30790607e-01, ...,\n",
              "         6.95401602e-01, 9.51930972e-01, 5.65125340e-01],\n",
              "        [2.37542399e-01, 8.70008662e-01, 5.53079387e-01, ...,\n",
              "         5.73454913e-01, 8.21795944e-01, 9.92049922e-02]],\n",
              "\n",
              "       ...,\n",
              "\n",
              "       [[8.15787947e-01, 9.02578048e-01, 4.88297344e-01, ...,\n",
              "         5.53002206e-01, 1.81124103e-02, 8.79602618e-01],\n",
              "        [2.35144285e-01, 8.36762289e-01, 7.02073410e-01, ...,\n",
              "         7.67858871e-02, 5.17967663e-01, 6.45094814e-02],\n",
              "        [6.84159837e-02, 8.26602431e-02, 4.23167507e-02, ...,\n",
              "         4.63353044e-02, 6.40912216e-01, 2.16206427e-02],\n",
              "        ...,\n",
              "        [1.12173901e-01, 4.23852590e-01, 7.10007041e-01, ...,\n",
              "         6.26334487e-01, 7.04838449e-01, 7.88802308e-02],\n",
              "        [8.79682731e-01, 3.70992071e-01, 3.79824175e-01, ...,\n",
              "         7.66206984e-01, 2.70679344e-01, 5.80864849e-01],\n",
              "        [8.41187092e-01, 6.78656830e-01, 4.44637331e-01, ...,\n",
              "         4.19933819e-02, 7.01145517e-01, 7.64142856e-01]],\n",
              "\n",
              "       [[9.09046395e-01, 2.64532736e-03, 6.46241072e-01, ...,\n",
              "         1.31873530e-02, 3.67942029e-01, 3.61081869e-01],\n",
              "        [4.52129863e-01, 8.11745800e-01, 9.96916770e-01, ...,\n",
              "         7.95823619e-01, 7.43131466e-01, 2.39910602e-02],\n",
              "        [9.56318365e-01, 5.04166511e-01, 4.08985073e-01, ...,\n",
              "         2.68753817e-01, 8.38211304e-01, 7.65451673e-01],\n",
              "        ...,\n",
              "        [4.59449324e-01, 9.92843268e-02, 2.21818788e-01, ...,\n",
              "         7.74540886e-01, 1.74476296e-01, 6.62296710e-01],\n",
              "        [5.20536907e-01, 2.67195188e-01, 8.17224002e-02, ...,\n",
              "         1.65387708e-01, 7.33795079e-01, 3.66650701e-01],\n",
              "        [5.39825402e-01, 7.59640781e-01, 3.04877791e-01, ...,\n",
              "         6.46136953e-01, 5.14637249e-01, 8.57909457e-01]],\n",
              "\n",
              "       [[7.81248692e-01, 3.26805761e-01, 2.96414564e-01, ...,\n",
              "         2.24459599e-02, 2.18576326e-01, 7.86396042e-01],\n",
              "        [4.01970887e-01, 3.54403021e-03, 4.29585873e-01, ...,\n",
              "         1.77214188e-02, 9.41495296e-01, 3.62513763e-01],\n",
              "        [2.63197403e-02, 3.94877539e-02, 5.44099702e-01, ...,\n",
              "         9.22093829e-01, 3.58412135e-01, 9.93750352e-01],\n",
              "        ...,\n",
              "        [8.90246748e-01, 8.46168782e-01, 4.98240340e-01, ...,\n",
              "         5.31164680e-01, 1.68155268e-01, 6.76175419e-01],\n",
              "        [1.24156164e-01, 1.13396950e-01, 8.89393439e-01, ...,\n",
              "         6.14941296e-01, 6.16061166e-01, 7.84925568e-01],\n",
              "        [8.87674880e-01, 3.52849846e-01, 5.98696070e-01, ...,\n",
              "         7.61020595e-01, 1.93340209e-01, 9.29218602e-01]]])"
            ]
          },
          "metadata": {},
          "execution_count": 156
        }
      ]
    },
    {
      "cell_type": "code",
      "source": [
        "mu, sigma = 0, 0.1 # mean and standard deviation\n",
        "s = np.random.normal(mu, sigma, 1000)\n",
        "print(mu)\n",
        "print(sigma)\n",
        "print(s)"
      ],
      "metadata": {
        "colab": {
          "base_uri": "https://localhost:8080/"
        },
        "id": "H5MbJGyxw2Ma",
        "outputId": "67785c8e-5752-44d0-ec05-aee352e42fd5"
      },
      "execution_count": 158,
      "outputs": [
        {
          "output_type": "stream",
          "name": "stdout",
          "text": [
            "0\n",
            "0.1\n",
            "[ 0.10323524 -0.11010251 -0.04870383 -0.06562065  0.20345337 -0.01571871\n",
            " -0.16283329 -0.03353554  0.02625057  0.02344505  0.03131469 -0.02093281\n",
            " -0.00690974  0.06218255  0.07968657 -0.09172237 -0.1110662  -0.1584871\n",
            "  0.08700255 -0.02315226  0.04837231  0.12907828  0.01726459  0.00037543\n",
            "  0.02884846 -0.01690324 -0.12488405  0.02056682 -0.02014139 -0.10488523\n",
            "  0.04821572 -0.07716336  0.01211045 -0.05292948 -0.22815718  0.07104581\n",
            "  0.11292014  0.01182206 -0.10538928  0.1243389  -0.04174928 -0.05168908\n",
            "  0.16878022  0.02440958 -0.14640769 -0.15160318  0.0299887   0.06625735\n",
            "  0.00586245  0.10184999  0.0271962   0.12928459  0.13604715 -0.04209463\n",
            " -0.00331904 -0.02206964  0.03966742  0.01929789  0.11553537 -0.1108316\n",
            " -0.036862    0.07280026  0.12072721  0.10546026 -0.13701462 -0.18684701\n",
            "  0.18207052 -0.15145912 -0.1263768   0.10830631 -0.05338268 -0.09193712\n",
            "  0.05733453  0.03070841  0.07313384 -0.05477835  0.09889032  0.03939133\n",
            "  0.0937427  -0.02595259  0.18490602  0.08866645 -0.07490209 -0.03622664\n",
            "  0.04401518 -0.14299467  0.10046456 -0.08297189 -0.05312017  0.06037445\n",
            " -0.02304761  0.02133906  0.08007796 -0.09134362 -0.03124315 -0.04406869\n",
            "  0.02748599 -0.0523353  -0.02087986  0.06261145  0.01251392 -0.0467516\n",
            " -0.14458251 -0.01140612 -0.10689215 -0.01509586  0.14692865 -0.10713628\n",
            "  0.1269277   0.03613392  0.02754381 -0.1617792  -0.00548804 -0.15529901\n",
            " -0.0790413   0.17340244 -0.08857338 -0.00590305  0.0467848  -0.04480615\n",
            "  0.25323454 -0.10121422  0.03993796 -0.02325361  0.03486332 -0.03083812\n",
            "  0.07596743  0.12583297 -0.15663546 -0.13981172 -0.05078684 -0.04284735\n",
            " -0.12921728  0.11332118 -0.08799247 -0.0217041  -0.10052074 -0.18572009\n",
            "  0.09003714 -0.0027614  -0.1818926  -0.04553201  0.00111049  0.13557277\n",
            "  0.05830253  0.0214339   0.05832352  0.05464341 -0.05030907  0.09229278\n",
            "  0.0896291   0.15493334  0.07896233  0.02637147 -0.00068972  0.12034295\n",
            " -0.00216814 -0.04700924  0.16151473  0.17064744  0.02700409 -0.02311282\n",
            "  0.03613726 -0.02839331 -0.02093943  0.06607616 -0.01376996 -0.01379282\n",
            " -0.06040812  0.03735026  0.00782165 -0.03711803  0.00913343  0.10587328\n",
            "  0.03420659 -0.16673389  0.01859705  0.12166886  0.1760175  -0.06998056\n",
            " -0.02147994  0.08508079 -0.07806974 -0.02762288 -0.07729979 -0.05289011\n",
            " -0.0767441  -0.20529138  0.0940151  -0.04565701  0.00981767 -0.03356409\n",
            "  0.03633659 -0.04400768 -0.1195013  -0.01268123 -0.01059839  0.1727607\n",
            " -0.00862375  0.05245393 -0.00402491 -0.05293779 -0.05292138 -0.07722043\n",
            "  0.03960551 -0.0573945  -0.01544215 -0.00324459 -0.07502913  0.11782579\n",
            " -0.10552153 -0.01982395 -0.20450004  0.01803655 -0.26804867 -0.15985071\n",
            " -0.03230664  0.13429909 -0.04703183  0.10322836  0.04386185 -0.0911922\n",
            " -0.02604347 -0.03878592 -0.13033219 -0.03578876  0.09175489  0.07376038\n",
            "  0.02539665  0.08402313 -0.09459564  0.24818118 -0.05793481 -0.01793129\n",
            "  0.05110845 -0.02738023 -0.02128563 -0.05180958 -0.09046105  0.16285285\n",
            " -0.02648387 -0.1354919  -0.27757721  0.0520844   0.10619697 -0.26495847\n",
            "  0.07047968 -0.04224247 -0.14394086 -0.07885534 -0.0314507   0.05964916\n",
            " -0.12396071  0.19223935 -0.086823   -0.08188718 -0.20748405 -0.07570015\n",
            "  0.0115244   0.01210648  0.08212319  0.08284716  0.12205196  0.04823232\n",
            "  0.01648631 -0.11492619  0.08748696 -0.05853309 -0.0715611   0.05359191\n",
            "  0.121868    0.13359729 -0.19331542  0.07041155 -0.01499352  0.01640261\n",
            " -0.01579457  0.07559277 -0.06410972 -0.1367378   0.06712073 -0.00400057\n",
            "  0.11379916  0.12223519  0.05676617  0.06767662  0.02653971 -0.09063543\n",
            "  0.06182585  0.06598595  0.03686475  0.10625855 -0.02982885  0.18032795\n",
            " -0.03539082  0.06481019  0.03356879  0.00753982  0.04076213  0.11633877\n",
            " -0.0641549   0.06011072  0.02516848 -0.03971005 -0.09342306  0.03356801\n",
            "  0.01590301 -0.18696003 -0.16946428  0.10193813  0.03425709 -0.00124246\n",
            " -0.05903187 -0.09646765  0.08823026  0.15256292  0.02300621  0.02815991\n",
            "  0.11607661  0.06166783 -0.16977292  0.0821753   0.03817633  0.07684967\n",
            "  0.06115801 -0.02099945  0.15590525 -0.15928595  0.16813856  0.12581307\n",
            " -0.02437883 -0.03630493 -0.05058508  0.00329246 -0.06673228 -0.05837983\n",
            "  0.02061335  0.02464824  0.03837216 -0.01729971 -0.03808263  0.1381291\n",
            " -0.11205881  0.0506455   0.04879222 -0.0586819  -0.1708294   0.02724789\n",
            " -0.05645902  0.07859198  0.00604104 -0.17153509  0.04994423 -0.11681674\n",
            "  0.08104294 -0.15188265 -0.10944665  0.15697167 -0.28710633 -0.09642809\n",
            " -0.11214389  0.00311884  0.09836603 -0.08624188  0.06534346 -0.07863128\n",
            "  0.14957813 -0.04280841 -0.00842127  0.06190601 -0.08166293  0.0112655\n",
            "  0.08827851  0.00860484  0.08585222  0.04011152 -0.2081215   0.12595342\n",
            "  0.04640769 -0.01969556  0.0246638   0.11778497  0.03237615  0.05591977\n",
            " -0.00557594 -0.04370118 -0.01169713  0.13515773  0.12830343  0.10470295\n",
            "  0.0028568  -0.08311785 -0.14268051  0.00199628  0.14850318 -0.14657539\n",
            " -0.07993188 -0.02389675 -0.02444607 -0.06394378  0.03251712  0.05771485\n",
            "  0.03267091  0.19121993  0.09557828 -0.35349342 -0.04851727  0.03133451\n",
            "  0.13920622  0.00434678  0.01268637 -0.09391901  0.12106385  0.05694079\n",
            " -0.09628271  0.1743788  -0.14696595  0.00186022  0.02148825 -0.01666249\n",
            " -0.23598971  0.03134727  0.03654098 -0.0350514   0.10352353 -0.02068894\n",
            "  0.00442215  0.07843861 -0.02059553 -0.02351794 -0.11782714 -0.07929456\n",
            " -0.15004533 -0.02205368 -0.00117336 -0.08862176 -0.04255423  0.14579285\n",
            "  0.04338542  0.0452882   0.03911544  0.04499242 -0.22737671 -0.16923318\n",
            " -0.07015051  0.08345625  0.09938601 -0.04365358  0.09008324 -0.09972388\n",
            "  0.04678191 -0.05410982  0.10545658  0.16191051 -0.04646583 -0.22193958\n",
            "  0.05177572 -0.05222034 -0.06528257 -0.06572251 -0.10848154 -0.05481573\n",
            " -0.01011366 -0.0110006   0.03429844  0.04847583 -0.21039411 -0.22354592\n",
            " -0.13872736 -0.10409779 -0.04718671  0.15046925 -0.01613767 -0.00273264\n",
            " -0.05294967 -0.03143883 -0.04404845  0.11513037 -0.10121278 -0.13742754\n",
            "  0.05154921 -0.10127163  0.06638524  0.14765151  0.14766853 -0.06668974\n",
            " -0.02091156  0.00813176 -0.0695969   0.16449349  0.05959015  0.07491779\n",
            " -0.10222962  0.12127621  0.19982965  0.15053522 -0.06524125 -0.00930067\n",
            " -0.12110507 -0.03143482 -0.15617979  0.1531832  -0.02176578  0.0572292\n",
            " -0.28222115  0.07374394  0.0848979  -0.01945336  0.08032093 -0.15101144\n",
            "  0.04481695  0.01904207  0.00380014  0.06992359 -0.02821815  0.01910793\n",
            " -0.06795161  0.10206918  0.04399082  0.1950216  -0.02762495  0.07039675\n",
            " -0.11507435  0.10580367  0.0284432  -0.06936416  0.08364806 -0.0736365\n",
            "  0.03841682  0.16104017 -0.1069327  -0.00931132 -0.04221109 -0.0240028\n",
            " -0.09562497  0.08931299  0.08141513 -0.01660316 -0.12209748  0.0064213\n",
            "  0.09203746  0.1256447   0.04635646 -0.041563   -0.01380273 -0.00401798\n",
            "  0.24227771 -0.10111739  0.02765696  0.06907236 -0.02339321  0.12108181\n",
            "  0.25225053 -0.03792694  0.14380209 -0.04168397 -0.1289082  -0.00171205\n",
            "  0.00941129 -0.00281824  0.12795198 -0.06879724 -0.24673746 -0.09466354\n",
            " -0.10290586  0.0612944   0.16460986 -0.02553201 -0.00116472 -0.13344973\n",
            "  0.00304292 -0.07184166  0.05546908 -0.02723848 -0.09448134 -0.07704217\n",
            "  0.10771416  0.10583826 -0.28389808 -0.13672048  0.0332966  -0.00228317\n",
            "  0.14744228  0.09207793 -0.03455085  0.09000305  0.17664821  0.04321958\n",
            "  0.03499761 -0.00736099  0.0174054  -0.07050513  0.14087884  0.11522609\n",
            "  0.10000264  0.0284402  -0.04155921 -0.03462843 -0.03459384  0.09018853\n",
            "  0.08552075  0.08985462 -0.1611525  -0.10129724 -0.0439145   0.0808993\n",
            " -0.17735762 -0.2033623   0.06821814 -0.05776517  0.08589892 -0.11511681\n",
            "  0.06282325  0.09635407 -0.07816963  0.01725366 -0.11988109 -0.02656863\n",
            "  0.12933439  0.06279787 -0.04704538  0.00708334  0.01651461  0.03180682\n",
            "  0.18588566 -0.07352231  0.06025961 -0.05090826 -0.07059238  0.05561734\n",
            "  0.22233297  0.07637482 -0.06117858  0.1410246  -0.12511141 -0.18868707\n",
            "  0.19634706 -0.0020536  -0.00935067 -0.23009964  0.08892723 -0.05286724\n",
            "  0.12040891  0.2178141  -0.09179728  0.02639202  0.21274624  0.12611068\n",
            " -0.01016029  0.07679071  0.17769438  0.03892176 -0.03366283 -0.10371319\n",
            " -0.00949556  0.04923514  0.03900805  0.04644991  0.06383152 -0.02079044\n",
            "  0.00644258 -0.02760267 -0.01554769 -0.12576543  0.01906279 -0.04296616\n",
            "  0.0391188  -0.05316757  0.1457514   0.01654448 -0.00793288 -0.00641578\n",
            "  0.2422368  -0.06614309  0.04436813  0.05865196  0.08673434  0.08153266\n",
            "  0.00202269  0.00475807  0.07339973 -0.12345679  0.06290303 -0.18412615\n",
            "  0.05944005  0.03744005  0.15165848  0.0726785   0.04965875 -0.05482135\n",
            " -0.04742849  0.02557983  0.26133393  0.08981196  0.19366954 -0.03697025\n",
            " -0.07595054 -0.06184503 -0.12690643 -0.03923576  0.012727    0.05739965\n",
            " -0.08424591 -0.05214482 -0.18442509 -0.064342    0.11734235 -0.18913101\n",
            " -0.14176286  0.02536741  0.05656129 -0.14364836  0.11655114  0.08455959\n",
            "  0.11805247 -0.05722739  0.05689033  0.0145902  -0.02200396  0.08398966\n",
            " -0.02175764 -0.02200254 -0.14052988 -0.09519823 -0.00692723  0.14463056\n",
            "  0.11933236 -0.00839091  0.05606229 -0.14402171  0.02932483  0.05283253\n",
            "  0.08289364  0.03537262  0.0332994   0.18543477  0.10846866 -0.05444213\n",
            "  0.05839939 -0.01534814 -0.00187275 -0.15970568  0.02402674 -0.02850087\n",
            " -0.02780397  0.04268118 -0.06018771 -0.12672484 -0.08418986 -0.2438121\n",
            " -0.08873367 -0.06520081 -0.03775703  0.09827866 -0.02031141 -0.1225998\n",
            " -0.0457732   0.03554466  0.07637739 -0.12011646 -0.1584772   0.11216656\n",
            "  0.02681201  0.01795236 -0.00316086  0.15000895  0.04252364  0.25996083\n",
            " -0.16179765 -0.01646288  0.01944567  0.1971745  -0.04367934  0.03604856\n",
            " -0.14792292 -0.06551614  0.07957836 -0.00936126 -0.05457812  0.05866247\n",
            " -0.01182723 -0.2059675   0.0819658  -0.21632346 -0.07179988 -0.00837245\n",
            " -0.03625767  0.12029836  0.15062134  0.12940015  0.15098758  0.13396449\n",
            "  0.02572152  0.0398479   0.06947223 -0.04517249 -0.01087139  0.20252125\n",
            "  0.21870774  0.00081979  0.04447187  0.15546195  0.03193221  0.02606608\n",
            " -0.19161169 -0.01127998 -0.07423697 -0.10418995  0.18528727  0.07196897\n",
            "  0.14157556 -0.06550238  0.03811656 -0.04113327 -0.0714191  -0.04164933\n",
            "  0.08886502 -0.12278109 -0.08778578 -0.08069112 -0.1354921  -0.09019806\n",
            " -0.135318    0.00152428 -0.01937876 -0.11065924  0.02995807  0.07595635\n",
            " -0.00230501  0.00360158  0.22600782  0.24941558  0.10977636  0.0124052\n",
            " -0.11010211  0.02071374  0.13599658 -0.16689383  0.06019882  0.06252207\n",
            " -0.04669593  0.15586968  0.13052725 -0.04132063  0.00358231 -0.0336058\n",
            "  0.12116997  0.12536767  0.00377948 -0.07504424 -0.10387905  0.18903221\n",
            " -0.04041592  0.06121039 -0.08328673  0.11631026  0.19869273  0.19330518\n",
            "  0.00153486  0.00504618  0.10465737  0.16842576 -0.14662181 -0.06922796\n",
            "  0.19894688 -0.11660999 -0.07542993 -0.14036767 -0.22756312  0.07324115\n",
            " -0.10837709 -0.09056674  0.0090617  -0.04096197  0.11613568 -0.14000848\n",
            " -0.00059986  0.02810739  0.01370411  0.06235823  0.02073355 -0.15056932\n",
            " -0.00237703 -0.20774042 -0.01670596  0.11402604  0.07723906  0.02264418\n",
            " -0.01548336 -0.01174089 -0.08446748 -0.10914905  0.024796   -0.14418721\n",
            "  0.00796706 -0.22487063 -0.04333679  0.10214678 -0.04728973 -0.17321813\n",
            "  0.07921842  0.19630564 -0.1216812   0.04756442 -0.09249365 -0.02819175\n",
            "  0.15563606 -0.06873015  0.2445665   0.01769746 -0.01449588  0.0830044\n",
            "  0.05536069 -0.15627143  0.26454326 -0.0727243  -0.02826611 -0.01915955\n",
            "  0.13771475  0.19202039  0.09696889 -0.19751446  0.01021708  0.09621266\n",
            " -0.05848651 -0.06862662  0.04787693 -0.06110017  0.01987943  0.11964593\n",
            "  0.01109098 -0.12411492 -0.21835989 -0.00638883 -0.04791658 -0.04457673\n",
            " -0.14687359 -0.05651881  0.08882713  0.02980127 -0.05992044  0.10022108\n",
            " -0.02535492  0.05266569  0.04975171 -0.01651247 -0.01237248  0.14944136\n",
            " -0.19969497 -0.13978678  0.13521459  0.03552977 -0.0108427  -0.05982168\n",
            " -0.03450316  0.18940646 -0.0787214   0.07856912  0.04322372 -0.04063857\n",
            " -0.01627541 -0.00067642 -0.00790277 -0.03207401  0.00934301  0.1242281\n",
            "  0.01162702 -0.13072874 -0.06094995 -0.07821705  0.10401256  0.04859573\n",
            " -0.0845037  -0.10163562  0.01154592  0.00339182  0.06992219  0.13278773\n",
            " -0.07157739 -0.11865801 -0.04281829 -0.05357741  0.05162611 -0.0262593\n",
            "  0.02975242  0.11163028  0.17344362 -0.13394554 -0.10173319  0.03445797\n",
            " -0.03581014  0.00523469  0.02776256  0.03685868 -0.00905859  0.01451999\n",
            "  0.03968326 -0.05473779 -0.01699969 -0.12057976]\n"
          ]
        }
      ]
    },
    {
      "cell_type": "markdown",
      "source": [
        "Exercise"
      ],
      "metadata": {
        "id": "xVNCdqjexCzQ"
      }
    },
    {
      "cell_type": "code",
      "source": [
        "dice = np.random.choice([0,1,2,3,4,5,6], 10)\n",
        "dice"
      ],
      "metadata": {
        "colab": {
          "base_uri": "https://localhost:8080/"
        },
        "id": "8XRqvorgxCcC",
        "outputId": "8024aa73-46bd-4867-a903-ca471849f89c"
      },
      "execution_count": 159,
      "outputs": [
        {
          "output_type": "execute_result",
          "data": {
            "text/plain": [
              "array([5, 6, 2, 4, 0, 2, 0, 2, 5, 5])"
            ]
          },
          "metadata": {},
          "execution_count": 159
        }
      ]
    },
    {
      "cell_type": "code",
      "source": [
        "notfair = np.random.choice([0,1,1], 10)\n",
        "notfair"
      ],
      "metadata": {
        "colab": {
          "base_uri": "https://localhost:8080/"
        },
        "id": "B5yEIf0xxOCu",
        "outputId": "82fb3088-434a-4fa3-a303-bc501b6ba440"
      },
      "execution_count": 160,
      "outputs": [
        {
          "output_type": "execute_result",
          "data": {
            "text/plain": [
              "array([1, 1, 1, 0, 0, 0, 1, 1, 0, 0])"
            ]
          },
          "metadata": {},
          "execution_count": 160
        }
      ]
    }
  ]
}