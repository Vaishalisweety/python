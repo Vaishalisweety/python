{
  "nbformat": 4,
  "nbformat_minor": 0,
  "metadata": {
    "colab": {
      "provenance": [],
      "collapsed_sections": [],
      "authorship_tag": "ABX9TyP7cEm71B2ojWi/3vjUBnDe",
      "include_colab_link": true
    },
    "kernelspec": {
      "name": "python3",
      "display_name": "Python 3"
    },
    "language_info": {
      "name": "python"
    }
  },
  "cells": [
    {
      "cell_type": "markdown",
      "metadata": {
        "id": "view-in-github",
        "colab_type": "text"
      },
      "source": [
        "<a href=\"https://colab.research.google.com/github/Vaishalisweety/python/blob/main/Deck_cards_(24_09_22).ipynb\" target=\"_parent\"><img src=\"https://colab.research.google.com/assets/colab-badge.svg\" alt=\"Open In Colab\"/></a>"
      ]
    },
    {
      "cell_type": "code",
      "execution_count": 1,
      "metadata": {
        "colab": {
          "base_uri": "https://localhost:8080/"
        },
        "id": "mUzRGPVEYYOE",
        "outputId": "49a15a03-816b-4cbb-ec23-6138be25b193"
      },
      "outputs": [
        {
          "output_type": "stream",
          "name": "stdout",
          "text": [
            "\n",
            " Player 1 Cards: \n",
            " ['A of Hearts', '2 of Hearts', '3 of Hearts', '4 of Hearts', '5 of Hearts', '6 of Hearts', '7 of Hearts', '8 of Hearts', '9 of Hearts', '10 of Hearts', 'J of Hearts', 'Q of Hearts', 'K of Hearts', 'A of Diamonds', '2 of Diamonds', '3 of Diamonds', '4 of Diamonds', '5 of Diamonds', '6 of Diamonds', '7 of Diamonds', '8 of Diamonds', '9 of Diamonds', '10 of Diamonds', 'J of Diamonds', 'Q of Diamonds', 'K of Diamonds', 'A of Clubs', '2 of Clubs', '3 of Clubs', '4 of Clubs', '5 of Clubs', '6 of Clubs', '7 of Clubs', '8 of Clubs', '9 of Clubs', '10 of Clubs', 'J of Clubs', 'Q of Clubs', 'K of Clubs', 'A of Spades', '2 of Spades', '3 of Spades', '4 of Spades', '5 of Spades', '6 of Spades', '7 of Spades', '8 of Spades', '9 of Spades', '10 of Spades', 'J of Spades', 'Q of Spades', 'K of Spades']\n",
            "\n",
            " Player 2 Cards: \n",
            " ['8 of Hearts', '10 of Diamonds', '9 of Clubs', 'K of Hearts', 'A of Spades', '7 of Diamonds', 'A of Hearts', '4 of Diamonds', 'K of Diamonds', 'Q of Diamonds', 'J of Clubs', 'A of Clubs', 'K of Clubs', '9 of Spades', '6 of Clubs', '5 of Spades', '4 of Spades', '5 of Clubs', 'Q of Clubs', 'Q of Hearts', 'A of Diamonds', '3 of Hearts', '4 of Hearts', 'J of Hearts', '9 of Diamonds', '3 of Clubs', 'J of Spades', '6 of Hearts', 'Q of Spades', '5 of Diamonds', '8 of Clubs', '10 of Spades', '3 of Diamonds', '3 of Spades', '6 of Spades', 'J of Diamonds', '7 of Clubs', '2 of Spades', '5 of Hearts', '4 of Clubs', '10 of Hearts', '2 of Hearts', '9 of Hearts', '8 of Spades', '7 of Spades', '10 of Clubs', '2 of Clubs', 'K of Spades', '8 of Diamonds', '2 of Diamonds', '6 of Diamonds', '7 of Hearts']\n",
            "\n",
            " Removing a card from the deck: 7 of Hearts\n",
            "\n",
            " Removing another card from the deck: 6 of Diamonds\n"
          ]
        }
      ],
      "source": [
        "# Import required modules\n",
        "from random import shuffle\n",
        "  \n",
        "  \n",
        "# Define a class to create\n",
        "# all type of cards\n",
        "class Cards:\n",
        "    global suites, values\n",
        "    suites = ['Hearts', 'Diamonds', 'Clubs', 'Spades']\n",
        "    values = ['A', '2', '3', '4', '5', '6', '7', '8', '9', '10', 'J', 'Q', 'K']\n",
        "  \n",
        "    def __init__(self):\n",
        "        pass\n",
        "  \n",
        "  \n",
        "# Define a class to categorize each card\n",
        "class Deck(Cards):\n",
        "    def __init__(self):\n",
        "        Cards.__init__(self)\n",
        "        self.mycardset = []\n",
        "        for n in suites:\n",
        "            for c in values:\n",
        "                self.mycardset.append((c)+\" \"+\"of\"+\" \"+n)\n",
        "  \n",
        "    # Method to remove a card from the deck\n",
        "    def popCard(self):\n",
        "        if len(self.mycardset) == 0:\n",
        "            return \"NO CARDS CAN BE POPPED FURTHER\"\n",
        "        else:\n",
        "            cardpopped = self.mycardset.pop()\n",
        "            print(\"Card removed is\", cardpopped)\n",
        "  \n",
        "  \n",
        "# Define a class gto shuffle the deck of cards\n",
        "class ShuffleCards(Deck):\n",
        "  \n",
        "    # Constructor\n",
        "    def __init__(self):\n",
        "        Deck.__init__(self)\n",
        "  \n",
        "    # Method to shuffle cards\n",
        "    def shuffle(self):\n",
        "        if len(self.mycardset) < 52:\n",
        "            print(\"cannot shuffle the cards\")\n",
        "        else:\n",
        "            shuffle(self.mycardset)\n",
        "            return self.mycardset\n",
        "  \n",
        "    # Method to remove a card from the deck\n",
        "    def popCard(self):\n",
        "        if len(self.mycardset) == 0:\n",
        "            return \"NO CARDS CAN BE POPPED FURTHER\"\n",
        "        else:\n",
        "            cardpopped = self.mycardset.pop()\n",
        "            return (cardpopped)\n",
        "  \n",
        "  \n",
        "# Driver Code\n",
        "# Creating objects\n",
        "objCards = Cards()\n",
        "objDeck = Deck()\n",
        "  \n",
        "# Player 1\n",
        "player1Cards = objDeck.mycardset\n",
        "print('\\n Player 1 Cards: \\n', player1Cards)\n",
        "  \n",
        "# Creating object\n",
        "objShuffleCards = ShuffleCards()\n",
        "  \n",
        "# Player 2\n",
        "player2Cards = objShuffleCards.shuffle()\n",
        "print('\\n Player 2 Cards: \\n', player2Cards)\n",
        "  \n",
        "# Remove some cards\n",
        "print('\\n Removing a card from the deck:', objShuffleCards.popCard())\n",
        "print('\\n Removing another card from the deck:', objShuffleCards.popCard())"
      ]
    }
  ]
}