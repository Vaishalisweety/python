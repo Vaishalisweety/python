{
  "nbformat": 4,
  "nbformat_minor": 0,
  "metadata": {
    "colab": {
      "name": "Data_Sturucture.ipynb",
      "provenance": [],
      "collapsed_sections": [],
      "authorship_tag": "ABX9TyMmDcJxKQkxMiDsE27WejIo",
      "include_colab_link": true
    },
    "kernelspec": {
      "name": "python3",
      "display_name": "Python 3"
    },
    "language_info": {
      "name": "python"
    }
  },
  "cells": [
    {
      "cell_type": "markdown",
      "metadata": {
        "id": "view-in-github",
        "colab_type": "text"
      },
      "source": [
        "<a href=\"https://colab.research.google.com/github/Vaishalisweety/python/blob/main/Data_Sturucture.ipynb\" target=\"_parent\"><img src=\"https://colab.research.google.com/assets/colab-badge.svg\" alt=\"Open In Colab\"/></a>"
      ]
    },
    {
      "cell_type": "code",
      "source": [
        "dir(list)"
      ],
      "metadata": {
        "colab": {
          "base_uri": "https://localhost:8080/"
        },
        "id": "9CVhWU6TMvTU",
        "outputId": "638fec21-4438-4e9a-d6d6-fec7e37ef73d"
      },
      "execution_count": 42,
      "outputs": [
        {
          "output_type": "execute_result",
          "data": {
            "text/plain": [
              "['__add__',\n",
              " '__class__',\n",
              " '__contains__',\n",
              " '__delattr__',\n",
              " '__delitem__',\n",
              " '__dir__',\n",
              " '__doc__',\n",
              " '__eq__',\n",
              " '__format__',\n",
              " '__ge__',\n",
              " '__getattribute__',\n",
              " '__getitem__',\n",
              " '__gt__',\n",
              " '__hash__',\n",
              " '__iadd__',\n",
              " '__imul__',\n",
              " '__init__',\n",
              " '__init_subclass__',\n",
              " '__iter__',\n",
              " '__le__',\n",
              " '__len__',\n",
              " '__lt__',\n",
              " '__mul__',\n",
              " '__ne__',\n",
              " '__new__',\n",
              " '__reduce__',\n",
              " '__reduce_ex__',\n",
              " '__repr__',\n",
              " '__reversed__',\n",
              " '__rmul__',\n",
              " '__setattr__',\n",
              " '__setitem__',\n",
              " '__sizeof__',\n",
              " '__str__',\n",
              " '__subclasshook__',\n",
              " 'append',\n",
              " 'clear',\n",
              " 'copy',\n",
              " 'count',\n",
              " 'extend',\n",
              " 'index',\n",
              " 'insert',\n",
              " 'pop',\n",
              " 'remove',\n",
              " 'reverse',\n",
              " 'sort']"
            ]
          },
          "metadata": {},
          "execution_count": 42
        }
      ]
    },
    {
      "cell_type": "markdown",
      "source": [
        "**Lists**"
      ],
      "metadata": {
        "id": "cPg6EYBvF6MS"
      }
    },
    {
      "cell_type": "code",
      "execution_count": 1,
      "metadata": {
        "colab": {
          "base_uri": "https://localhost:8080/"
        },
        "id": "3FumGmp5pwUM",
        "outputId": "c08029ae-0949-4d76-ae31-b99d9c62e6a2"
      },
      "outputs": [
        {
          "output_type": "execute_result",
          "data": {
            "text/plain": [
              "['sweets', 'fruits', 'vegetables']"
            ]
          },
          "metadata": {},
          "execution_count": 1
        }
      ],
      "source": [
        "mylist=['sweets','fruits','vegetables']\n",
        "mylist"
      ]
    },
    {
      "cell_type": "markdown",
      "source": [
        "lists are Storing Multiple items in a single varibables."
      ],
      "metadata": {
        "id": "0MYvf0cHp2vj"
      }
    },
    {
      "cell_type": "markdown",
      "source": [
        "**append()**"
      ],
      "metadata": {
        "id": "MGmTLL1wGJuR"
      }
    },
    {
      "cell_type": "code",
      "source": [
        "mylist.append('chips')\n",
        "mylist"
      ],
      "metadata": {
        "colab": {
          "base_uri": "https://localhost:8080/"
        },
        "id": "DenwGoSaqNpB",
        "outputId": "999b37c6-28fc-43d7-d6f2-861754c778a6"
      },
      "execution_count": 2,
      "outputs": [
        {
          "output_type": "execute_result",
          "data": {
            "text/plain": [
              "['sweets', 'fruits', 'vegetables', 'chips']"
            ]
          },
          "metadata": {},
          "execution_count": 2
        }
      ]
    },
    {
      "cell_type": "markdown",
      "source": [
        "Append is used to add the items at the last in the  single varibales"
      ],
      "metadata": {
        "id": "UFD_UjuQqhov"
      }
    },
    {
      "cell_type": "markdown",
      "source": [
        ""
      ],
      "metadata": {
        "id": "Vd-ti9tOGPuL"
      }
    },
    {
      "cell_type": "code",
      "source": [
        "mylist[0]"
      ],
      "metadata": {
        "colab": {
          "base_uri": "https://localhost:8080/",
          "height": 35
        },
        "id": "QGqYXqpvqwfY",
        "outputId": "5ac47aa2-aa99-4a8e-d990-d43637293c85"
      },
      "execution_count": 3,
      "outputs": [
        {
          "output_type": "execute_result",
          "data": {
            "text/plain": [
              "'sweets'"
            ],
            "application/vnd.google.colaboratory.intrinsic+json": {
              "type": "string"
            }
          },
          "metadata": {},
          "execution_count": 3
        }
      ]
    },
    {
      "cell_type": "markdown",
      "source": [
        "mylist[0] # INDEXED, ORDERED"
      ],
      "metadata": {
        "id": "eaU18CSRr3Mv"
      }
    },
    {
      "cell_type": "code",
      "source": [
        "mylist[1:]"
      ],
      "metadata": {
        "colab": {
          "base_uri": "https://localhost:8080/"
        },
        "id": "e6Ue8rLgr_6o",
        "outputId": "7e0e6125-e432-4aa0-a959-55c17d8a797b"
      },
      "execution_count": 4,
      "outputs": [
        {
          "output_type": "execute_result",
          "data": {
            "text/plain": [
              "['fruits', 'vegetables', 'chips']"
            ]
          },
          "metadata": {},
          "execution_count": 4
        }
      ]
    },
    {
      "cell_type": "markdown",
      "source": [
        "This will return the items from index 1 to the end"
      ],
      "metadata": {
        "id": "twDqX4p-su5h"
      }
    },
    {
      "cell_type": "code",
      "source": [
        "mylist\n",
        "mylist[3]='Apple'\n",
        "print(mylist)"
      ],
      "metadata": {
        "colab": {
          "base_uri": "https://localhost:8080/"
        },
        "id": "dCecwUnrtFNB",
        "outputId": "499369ae-2558-44d9-a74d-48ab89d75c36"
      },
      "execution_count": 8,
      "outputs": [
        {
          "output_type": "stream",
          "name": "stdout",
          "text": [
            "['sweets', 'fruits', 'vegetables', 'Apple']\n"
          ]
        }
      ]
    },
    {
      "cell_type": "markdown",
      "source": [
        "Change the item value from Chips to Apple"
      ],
      "metadata": {
        "id": "_nlcloB3uM-z"
      }
    },
    {
      "cell_type": "markdown",
      "source": [
        "**remove()**"
      ],
      "metadata": {
        "id": "bvr5cNojGUYu"
      }
    },
    {
      "cell_type": "code",
      "source": [
        "mylist=['sweets','fruits','vegetables','Apple']\n",
        "mylist\n",
        "mylist.remove('Apple')"
      ],
      "metadata": {
        "id": "GZhNUsDDuT-k"
      },
      "execution_count": 18,
      "outputs": []
    },
    {
      "cell_type": "code",
      "source": [
        "print(mylist)"
      ],
      "metadata": {
        "colab": {
          "base_uri": "https://localhost:8080/"
        },
        "id": "4zpkf6Vbvg2S",
        "outputId": "bd5aa41f-1776-49b0-8747-b6ab665e583b"
      },
      "execution_count": 19,
      "outputs": [
        {
          "output_type": "stream",
          "name": "stdout",
          "text": [
            "['sweets', 'fruits', 'vegetables']\n"
          ]
        }
      ]
    },
    {
      "cell_type": "markdown",
      "source": [
        "remove() will remove the particular items from the list"
      ],
      "metadata": {
        "id": "S_rG2JHp26ck"
      }
    },
    {
      "cell_type": "markdown",
      "source": [
        "**sort()**"
      ],
      "metadata": {
        "id": "I7B2M0gCGjA7"
      }
    },
    {
      "cell_type": "code",
      "source": [
        "mylist.sort()\n",
        "print(mylist)"
      ],
      "metadata": {
        "colab": {
          "base_uri": "https://localhost:8080/"
        },
        "id": "wEsIqTBmx0nG",
        "outputId": "4146545c-ca51-4d7e-eb42-9f00dd607135"
      },
      "execution_count": 24,
      "outputs": [
        {
          "output_type": "stream",
          "name": "stdout",
          "text": [
            "['fruits', 'sweets', 'vegetables']\n"
          ]
        }
      ]
    },
    {
      "cell_type": "markdown",
      "source": [
        "sort will give the list in alphanumerically, ascending order."
      ],
      "metadata": {
        "id": "olnHwkgUyPDM"
      }
    },
    {
      "cell_type": "markdown",
      "source": [
        "**Copy**"
      ],
      "metadata": {
        "id": "lPelcl6-GugS"
      }
    },
    {
      "cell_type": "code",
      "source": [
        "list=mylist.copy()"
      ],
      "metadata": {
        "id": "5VNzGwYDyXlC"
      },
      "execution_count": 25,
      "outputs": []
    },
    {
      "cell_type": "code",
      "source": [
        "print(list)"
      ],
      "metadata": {
        "colab": {
          "base_uri": "https://localhost:8080/"
        },
        "id": "S_gNh6Suyyxg",
        "outputId": "e8c0bfbb-5000-4323-e7fd-f103c45bf413"
      },
      "execution_count": 26,
      "outputs": [
        {
          "output_type": "stream",
          "name": "stdout",
          "text": [
            "['fruits', 'sweets', 'vegetables']\n"
          ]
        }
      ]
    },
    {
      "cell_type": "markdown",
      "source": [
        "copy is to copy the items by changing the name of the list."
      ],
      "metadata": {
        "id": "BjRDUYWmy1cx"
      }
    },
    {
      "cell_type": "markdown",
      "source": [
        "**join**"
      ],
      "metadata": {
        "id": "Pqt6VRKDG5nE"
      }
    },
    {
      "cell_type": "code",
      "source": [
        "list1 = [\"Things\", \"Places\", \"Names\"]\n",
        "list2 = [\"A\",\"B\",\"C\"]\n",
        "\n",
        "list3 = list1 + list2\n",
        "print(list3)"
      ],
      "metadata": {
        "colab": {
          "base_uri": "https://localhost:8080/"
        },
        "id": "w2BdqMiGzFFS",
        "outputId": "324658b3-c9b0-4624-8891-3fd573279b96"
      },
      "execution_count": 27,
      "outputs": [
        {
          "output_type": "stream",
          "name": "stdout",
          "text": [
            "['Things', 'Places', 'Names', 'A', 'B', 'C']\n"
          ]
        }
      ]
    },
    {
      "cell_type": "markdown",
      "source": [
        "Join the lists using + operator."
      ],
      "metadata": {
        "id": "C3roFu7XzfEj"
      }
    },
    {
      "cell_type": "markdown",
      "source": [
        "**count()**"
      ],
      "metadata": {
        "id": "bmokdJM8G8o-"
      }
    },
    {
      "cell_type": "code",
      "source": [
        "list.count(\"fruits\")"
      ],
      "metadata": {
        "colab": {
          "base_uri": "https://localhost:8080/"
        },
        "id": "DdZBnN1Lzl0P",
        "outputId": "19d62623-1c66-4793-a412-69e246683367"
      },
      "execution_count": 28,
      "outputs": [
        {
          "output_type": "execute_result",
          "data": {
            "text/plain": [
              "1"
            ]
          },
          "metadata": {},
          "execution_count": 28
        }
      ]
    },
    {
      "cell_type": "markdown",
      "source": [
        "Count is to count the number of items in th list."
      ],
      "metadata": {
        "id": "QN2BaNnu0C-n"
      }
    },
    {
      "cell_type": "markdown",
      "source": [
        "**extend()**"
      ],
      "metadata": {
        "id": "mYzvT7t6HGMp"
      }
    },
    {
      "cell_type": "code",
      "source": [
        "fruits = ['apple', 'banana', 'cherry']\n",
        "\n",
        "cars = ['Ford', 'BMW', 'Volvo']\n",
        "\n",
        "fruits.extend(cars)\n",
        "print(fruits)"
      ],
      "metadata": {
        "colab": {
          "base_uri": "https://localhost:8080/"
        },
        "id": "fCWu3uxz0JXP",
        "outputId": "ace9bd46-f809-4a0b-f11a-82e90836b656"
      },
      "execution_count": 30,
      "outputs": [
        {
          "output_type": "stream",
          "name": "stdout",
          "text": [
            "['apple', 'banana', 'cherry', 'Ford', 'BMW', 'Volvo']\n"
          ]
        }
      ]
    },
    {
      "cell_type": "markdown",
      "source": [
        "Here cars have been included in fruits by using extend() command in the end of the  current list."
      ],
      "metadata": {
        "id": "Hh-4zAJK0f_5"
      }
    },
    {
      "cell_type": "markdown",
      "source": [
        "**index()**"
      ],
      "metadata": {
        "id": "eWn_UvPrHII1"
      }
    },
    {
      "cell_type": "code",
      "source": [
        "print(list)\n",
        "y=list.index('sweets')\n",
        "print(y)"
      ],
      "metadata": {
        "colab": {
          "base_uri": "https://localhost:8080/"
        },
        "id": "dstnHpOF0vTn",
        "outputId": "d9ec8419-e218-4e13-c652-9f4d61dfd46d"
      },
      "execution_count": 32,
      "outputs": [
        {
          "output_type": "stream",
          "name": "stdout",
          "text": [
            "['fruits', 'sweets', 'vegetables']\n",
            "1\n"
          ]
        }
      ]
    },
    {
      "cell_type": "markdown",
      "source": [
        "Index is to Specify the particular value of the ItemsViewed."
      ],
      "metadata": {
        "id": "VFz8FNpO1rIc"
      }
    },
    {
      "cell_type": "markdown",
      "source": [
        "**insert()**"
      ],
      "metadata": {
        "id": "OXF5qK4vHKcT"
      }
    },
    {
      "cell_type": "code",
      "source": [
        "list.insert(3,'Chips')\n",
        "print(list)"
      ],
      "metadata": {
        "colab": {
          "base_uri": "https://localhost:8080/"
        },
        "id": "bGn0qjvq1TsJ",
        "outputId": "07495448-10fb-45a1-d2f1-07f28181c65b"
      },
      "execution_count": 33,
      "outputs": [
        {
          "output_type": "stream",
          "name": "stdout",
          "text": [
            "['fruits', 'sweets', 'vegetables', 'Chips']\n"
          ]
        }
      ]
    },
    {
      "cell_type": "markdown",
      "source": [
        "Insert is used add the Elements to the Specified position."
      ],
      "metadata": {
        "id": "5eKBMjsi2HPI"
      }
    },
    {
      "cell_type": "markdown",
      "source": [
        "**clear()**"
      ],
      "metadata": {
        "id": "9N81rslmJi7d"
      }
    },
    {
      "cell_type": "code",
      "source": [
        "lists = [\"apple\", \"banana\", \"cherry\",\"Sweets\",\"Vegetables\",2,5,False,True]\n",
        "lists.clear()\n",
        "print(lists)"
      ],
      "metadata": {
        "colab": {
          "base_uri": "https://localhost:8080/"
        },
        "id": "7xhHpOXA2kzi",
        "outputId": "ada61f04-ef39-421d-88d5-e1fff3eb5a1a"
      },
      "execution_count": 37,
      "outputs": [
        {
          "output_type": "stream",
          "name": "stdout",
          "text": [
            "[]\n"
          ]
        }
      ]
    },
    {
      "cell_type": "markdown",
      "source": [
        "clear is to remove all the items in th lists."
      ],
      "metadata": {
        "id": "9HB_Ro6lKMBR"
      }
    },
    {
      "cell_type": "markdown",
      "source": [
        "**pop()**"
      ],
      "metadata": {
        "id": "r1NGrURjKVkl"
      }
    },
    {
      "cell_type": "code",
      "source": [
        "num=[1,3,5]\n",
        "num"
      ],
      "metadata": {
        "colab": {
          "base_uri": "https://localhost:8080/"
        },
        "id": "dI01zQsqKZ5K",
        "outputId": "9c76ca58-3dc6-4110-da1e-5b2cec932873"
      },
      "execution_count": 36,
      "outputs": [
        {
          "output_type": "execute_result",
          "data": {
            "text/plain": [
              "[1, 3, 5]"
            ]
          },
          "metadata": {},
          "execution_count": 36
        }
      ]
    },
    {
      "cell_type": "code",
      "source": [
        "num.pop(2)"
      ],
      "metadata": {
        "colab": {
          "base_uri": "https://localhost:8080/"
        },
        "id": "vZnrbss4KzfO",
        "outputId": "35a7d6f3-9105-4619-9602-508853a60b06"
      },
      "execution_count": 39,
      "outputs": [
        {
          "output_type": "execute_result",
          "data": {
            "text/plain": [
              "5"
            ]
          },
          "metadata": {},
          "execution_count": 39
        }
      ]
    },
    {
      "cell_type": "code",
      "source": [
        "print(num)"
      ],
      "metadata": {
        "colab": {
          "base_uri": "https://localhost:8080/"
        },
        "id": "hH1mIccvLCgS",
        "outputId": "fe84181d-1859-455f-ff8b-db5057531faa"
      },
      "execution_count": 40,
      "outputs": [
        {
          "output_type": "stream",
          "name": "stdout",
          "text": [
            "[1, 3]\n"
          ]
        }
      ]
    },
    {
      "cell_type": "markdown",
      "source": [
        "Removes the Element from specified position."
      ],
      "metadata": {
        "id": "EPTht-bnLFVc"
      }
    },
    {
      "cell_type": "markdown",
      "source": [
        "**reverse()**\n",
        "Reverse the order the list"
      ],
      "metadata": {
        "id": "AvHZp2ejLXUW"
      }
    },
    {
      "cell_type": "code",
      "source": [
        "fruits = ['apple', 'banana', 'cherry','kiwi','pineapple']\n",
        "\n",
        "fruits.reverse()\n",
        "print(fruits)\n"
      ],
      "metadata": {
        "colab": {
          "base_uri": "https://localhost:8080/"
        },
        "id": "1yd0ZkvaLUt4",
        "outputId": "7c8f3f68-2f4d-4fe3-e244-7be6de41ce44"
      },
      "execution_count": 41,
      "outputs": [
        {
          "output_type": "stream",
          "name": "stdout",
          "text": [
            "['pineapple', 'kiwi', 'cherry', 'banana', 'apple']\n"
          ]
        }
      ]
    },
    {
      "cell_type": "markdown",
      "source": [
        "***sets***"
      ],
      "metadata": {
        "id": "5B9IrwbONWt-"
      }
    },
    {
      "cell_type": "code",
      "source": [
        "dir(set)"
      ],
      "metadata": {
        "colab": {
          "base_uri": "https://localhost:8080/"
        },
        "id": "Z44dLQyiM09j",
        "outputId": "7e6be132-7d41-4312-8243-7d1998b45751"
      },
      "execution_count": 43,
      "outputs": [
        {
          "output_type": "execute_result",
          "data": {
            "text/plain": [
              "['__and__',\n",
              " '__class__',\n",
              " '__contains__',\n",
              " '__delattr__',\n",
              " '__dir__',\n",
              " '__doc__',\n",
              " '__eq__',\n",
              " '__format__',\n",
              " '__ge__',\n",
              " '__getattribute__',\n",
              " '__gt__',\n",
              " '__hash__',\n",
              " '__iand__',\n",
              " '__init__',\n",
              " '__init_subclass__',\n",
              " '__ior__',\n",
              " '__isub__',\n",
              " '__iter__',\n",
              " '__ixor__',\n",
              " '__le__',\n",
              " '__len__',\n",
              " '__lt__',\n",
              " '__ne__',\n",
              " '__new__',\n",
              " '__or__',\n",
              " '__rand__',\n",
              " '__reduce__',\n",
              " '__reduce_ex__',\n",
              " '__repr__',\n",
              " '__ror__',\n",
              " '__rsub__',\n",
              " '__rxor__',\n",
              " '__setattr__',\n",
              " '__sizeof__',\n",
              " '__str__',\n",
              " '__sub__',\n",
              " '__subclasshook__',\n",
              " '__xor__',\n",
              " 'add',\n",
              " 'clear',\n",
              " 'copy',\n",
              " 'difference',\n",
              " 'difference_update',\n",
              " 'discard',\n",
              " 'intersection',\n",
              " 'intersection_update',\n",
              " 'isdisjoint',\n",
              " 'issubset',\n",
              " 'issuperset',\n",
              " 'pop',\n",
              " 'remove',\n",
              " 'symmetric_difference',\n",
              " 'symmetric_difference_update',\n",
              " 'union',\n",
              " 'update']"
            ]
          },
          "metadata": {},
          "execution_count": 43
        }
      ]
    },
    {
      "cell_type": "markdown",
      "source": [
        "**add()**\n",
        "\n",
        "Add the element to the set."
      ],
      "metadata": {
        "id": "2SV27H-sNJAL"
      }
    },
    {
      "cell_type": "code",
      "source": [
        "Numbers={1,7,8,9,False,\"Mango\"}\n",
        "Numbers.add(\"Orange\")\n",
        "print(Numbers)"
      ],
      "metadata": {
        "colab": {
          "base_uri": "https://localhost:8080/"
        },
        "id": "LyXEcfSkNH7q",
        "outputId": "7bd7f577-97f9-4b52-ae09-810ab13cddf4"
      },
      "execution_count": 46,
      "outputs": [
        {
          "output_type": "stream",
          "name": "stdout",
          "text": [
            "{False, 1, 7, 8, 9, 'Orange', 'Mango'}\n"
          ]
        }
      ]
    },
    {
      "cell_type": "markdown",
      "source": [
        "**clear()**\n",
        "\n",
        "Removes the elemnts of the set."
      ],
      "metadata": {
        "id": "mSSohGVgOdJS"
      }
    },
    {
      "cell_type": "code",
      "source": [
        "Numbers={1,7,8,9,False,\"Mango\"}\n",
        "Numbers.clear()\n",
        "print(Numbers)"
      ],
      "metadata": {
        "colab": {
          "base_uri": "https://localhost:8080/"
        },
        "id": "7kNn0KKdOxzo",
        "outputId": "eb2fc59e-bc81-41c1-b5e9-f583046625de"
      },
      "execution_count": 47,
      "outputs": [
        {
          "output_type": "stream",
          "name": "stdout",
          "text": [
            "set()\n"
          ]
        }
      ]
    },
    {
      "cell_type": "markdown",
      "source": [
        "**copy()**\n",
        "\n",
        "Gives the copy of the set to another set name."
      ],
      "metadata": {
        "id": "8FKaQAA6O4Do"
      }
    },
    {
      "cell_type": "code",
      "source": [
        "Numbers={1,7,8,9,False,\"Mango\"}\n",
        "All = Numbers.copy()\n",
        "print(All)"
      ],
      "metadata": {
        "colab": {
          "base_uri": "https://localhost:8080/"
        },
        "id": "AbxhHjpOPJYz",
        "outputId": "84f428d7-7a7c-4a1c-9317-e464d82a1170"
      },
      "execution_count": 48,
      "outputs": [
        {
          "output_type": "stream",
          "name": "stdout",
          "text": [
            "{False, 1, 7, 8, 9, 'Mango'}\n"
          ]
        }
      ]
    },
    {
      "cell_type": "markdown",
      "source": [
        "**difference()**\n",
        "\n",
        " It containing the difference between two sets."
      ],
      "metadata": {
        "id": "nTgL3r8ePcDg"
      }
    },
    {
      "cell_type": "code",
      "source": [
        "N1={1,2,3,4}\n",
        "N2={4,5,6,7}\n",
        "N3=N2.difference(N1)\n",
        "print(N3)"
      ],
      "metadata": {
        "colab": {
          "base_uri": "https://localhost:8080/"
        },
        "id": "2R6oaJfIQWJ0",
        "outputId": "06b728df-0334-41c9-fed9-a45f0279d366"
      },
      "execution_count": 49,
      "outputs": [
        {
          "output_type": "stream",
          "name": "stdout",
          "text": [
            "{5, 6, 7}\n"
          ]
        }
      ]
    },
    {
      "cell_type": "markdown",
      "source": [
        "**intersection()**\n",
        "\n",
        "Containing the elements in both the Sets."
      ],
      "metadata": {
        "id": "dWU6Et9YQsOt"
      }
    },
    {
      "cell_type": "code",
      "source": [
        "N1={1,2,3,4}\n",
        "N2={4,5,6,7}\n",
        "N3=N2.intersection(N1)\n",
        "print(N3)"
      ],
      "metadata": {
        "colab": {
          "base_uri": "https://localhost:8080/"
        },
        "id": "J8n1yiHQRFUC",
        "outputId": "54a0cb56-f2aa-42ff-b89e-88d1cdebc737"
      },
      "execution_count": 50,
      "outputs": [
        {
          "output_type": "stream",
          "name": "stdout",
          "text": [
            "{4}\n"
          ]
        }
      ]
    },
    {
      "cell_type": "markdown",
      "source": [
        "**pop()**\n",
        "\n",
        " Removes the Element from the set. Since sets are unordered, we do not know which item will get removed."
      ],
      "metadata": {
        "id": "I0dKDgegRPos"
      }
    },
    {
      "cell_type": "code",
      "source": [
        "N1={1,2,3,4}\n",
        "N1.pop()\n",
        "print(N1)"
      ],
      "metadata": {
        "colab": {
          "base_uri": "https://localhost:8080/"
        },
        "id": "usssNqRRRoVM",
        "outputId": "1f0fc13e-acc8-48ee-ca20-a0029fcf965e"
      },
      "execution_count": 54,
      "outputs": [
        {
          "output_type": "stream",
          "name": "stdout",
          "text": [
            "{2, 3, 4}\n"
          ]
        }
      ]
    },
    {
      "cell_type": "markdown",
      "source": [
        "**remove()**\n",
        "\n",
        "Remove the Specified elements."
      ],
      "metadata": {
        "id": "s6MpRXWzSWaD"
      }
    },
    {
      "cell_type": "code",
      "source": [
        "N2={4,5,6,7}\n",
        "N2.remove(7)\n",
        "print(N2)"
      ],
      "metadata": {
        "colab": {
          "base_uri": "https://localhost:8080/"
        },
        "id": "nZy1wpAbSock",
        "outputId": "3b766831-1904-4754-d331-bbdb3a522655"
      },
      "execution_count": 55,
      "outputs": [
        {
          "output_type": "stream",
          "name": "stdout",
          "text": [
            "{4, 5, 6}\n"
          ]
        }
      ]
    },
    {
      "cell_type": "markdown",
      "source": [
        "**union()**\n",
        "\n",
        "Containing Union of the Sets."
      ],
      "metadata": {
        "id": "mUOQ-Ev5S4E6"
      }
    },
    {
      "cell_type": "code",
      "source": [
        "N1={1,2,3,4}\n",
        "N2={4,5,6,7}\n",
        "N3=N1.union(N2)\n",
        "print(N3)"
      ],
      "metadata": {
        "colab": {
          "base_uri": "https://localhost:8080/"
        },
        "id": "m0GtFs9STELy",
        "outputId": "c5a2efb8-071b-467f-ed78-1ed522040ade"
      },
      "execution_count": 56,
      "outputs": [
        {
          "output_type": "stream",
          "name": "stdout",
          "text": [
            "{1, 2, 3, 4, 5, 6, 7}\n"
          ]
        }
      ]
    },
    {
      "cell_type": "markdown",
      "source": [
        "**update()**\n",
        "\n",
        "Insert the items from set1 into set x2."
      ],
      "metadata": {
        "id": "nyfnu63qTPdA"
      }
    },
    {
      "cell_type": "code",
      "source": [
        "set1={1,2,3,5,7,8,\"Mango\",\"Orange\"}\n",
        "set2={\"kiwi\",\"pineapple\",\"grapes\"}\n",
        "set1.update(set2)\n",
        "print(set1)"
      ],
      "metadata": {
        "colab": {
          "base_uri": "https://localhost:8080/"
        },
        "id": "EKeCNySGToW7",
        "outputId": "02d2e0b6-99ec-4305-a846-ff90e2537d7c"
      },
      "execution_count": 58,
      "outputs": [
        {
          "output_type": "stream",
          "name": "stdout",
          "text": [
            "{1, 2, 3, 'pineapple', 5, 'grapes', 7, 8, 'Orange', 'kiwi', 'Mango'}\n"
          ]
        }
      ]
    },
    {
      "cell_type": "markdown",
      "source": [
        "**difference_update()**\n",
        "\n",
        "Remove the items that exist in both sets that are also included in another, specified set."
      ],
      "metadata": {
        "id": "cTj944JCUTkW"
      }
    },
    {
      "cell_type": "code",
      "source": [
        "x = {4,8,0}\n",
        "y = {1,2,3,5}\n",
        "\n",
        "x.difference_update(y)\n",
        "\n",
        "print(x)"
      ],
      "metadata": {
        "colab": {
          "base_uri": "https://localhost:8080/"
        },
        "id": "KDJOfGTYUg3w",
        "outputId": "71af71c6-e730-480f-c5bc-74a1e6b527a8"
      },
      "execution_count": 60,
      "outputs": [
        {
          "output_type": "stream",
          "name": "stdout",
          "text": [
            "{8, 0, 4}\n"
          ]
        }
      ]
    },
    {
      "cell_type": "markdown",
      "source": [
        "**discard()**\n",
        "\n",
        "It will remove the specified item."
      ],
      "metadata": {
        "id": "0Si2beLnVZvr"
      }
    },
    {
      "cell_type": "code",
      "source": [
        "set1={1,2,3,5,7,8,\"Mango\",\"Orange\"}\n",
        "set1.discard(8)\n",
        "print(set1)"
      ],
      "metadata": {
        "colab": {
          "base_uri": "https://localhost:8080/"
        },
        "id": "nWwPG5DzWEwj",
        "outputId": "4712d399-ae24-4a9a-a73c-8dc7e15b6040"
      },
      "execution_count": 61,
      "outputs": [
        {
          "output_type": "stream",
          "name": "stdout",
          "text": [
            "{1, 2, 3, 5, 7, 'Orange', 'Mango'}\n"
          ]
        }
      ]
    },
    {
      "cell_type": "markdown",
      "source": [
        "**symmetric_difference()**\n",
        "\n",
        "Returns a set with the symmetric differences of two sets"
      ],
      "metadata": {
        "id": "C5zNUoRuWS5r"
      }
    },
    {
      "cell_type": "code",
      "source": [
        "x={1,2,3,5,7,8,\"Mango\",\"Orange\"}\n",
        "y={\"kiwi\",\"pineapple\",\"grapes\",3,5,8}\n",
        "z = x.symmetric_difference(y)\n",
        "print(z)"
      ],
      "metadata": {
        "colab": {
          "base_uri": "https://localhost:8080/"
        },
        "id": "yliNkGX-Wk6H",
        "outputId": "7e77b407-9b53-42ec-a12a-2afa4f2bc9b2"
      },
      "execution_count": 63,
      "outputs": [
        {
          "output_type": "stream",
          "name": "stdout",
          "text": [
            "{'grapes', 'pineapple', 1, 2, 7, 'Orange', 'kiwi', 'Mango'}\n"
          ]
        }
      ]
    },
    {
      "cell_type": "markdown",
      "source": [
        "**symmetric_difference_update()**\n",
        "\n",
        "\n",
        "Remove the items that are present in both sets, AND insert the items that is not present in both sets."
      ],
      "metadata": {
        "id": "J6c9qyd3XBS8"
      }
    },
    {
      "cell_type": "code",
      "source": [
        "x = {\"apple\", \"banana\", \"cherry\"}\n",
        "y = {\"google\", \"microsoft\", \"apple\"}\n",
        "x.symmetric_difference_update(y) \n",
        "print(x)"
      ],
      "metadata": {
        "colab": {
          "base_uri": "https://localhost:8080/"
        },
        "id": "RCSbX_EgXXz0",
        "outputId": "08acb011-6e3e-45a0-a549-3ccbf5507faa"
      },
      "execution_count": 65,
      "outputs": [
        {
          "output_type": "stream",
          "name": "stdout",
          "text": [
            "{'microsoft', 'cherry', 'google', 'banana'}\n"
          ]
        }
      ]
    },
    {
      "cell_type": "markdown",
      "source": [
        "**issubset()**\n",
        "\n",
        "Return True if no items in set x is present in set y."
      ],
      "metadata": {
        "id": "AwCxgbxAX77k"
      }
    },
    {
      "cell_type": "code",
      "source": [
        "x = {\"a\", \"b\", \"c\"}\n",
        "y = {\"f\", \"e\", \"d\"}\n",
        "z = x.issubset(y)\n",
        "print(z)"
      ],
      "metadata": {
        "colab": {
          "base_uri": "https://localhost:8080/"
        },
        "id": "FxCupvy2YFHz",
        "outputId": "5997955e-e216-47d4-ab89-b1a10b106040"
      },
      "execution_count": 67,
      "outputs": [
        {
          "output_type": "stream",
          "name": "stdout",
          "text": [
            "False\n"
          ]
        }
      ]
    },
    {
      "cell_type": "markdown",
      "source": [
        "**isdisjoint()**\n",
        "\n",
        " Returns whether two sets have a intersection or not"
      ],
      "metadata": {
        "id": "j1OjU5HHZC49"
      }
    },
    {
      "cell_type": "code",
      "source": [
        "x = {\"a\", \"b\", \"c\"}\n",
        "y = {\"f\", \"e\", \"d\"}\n",
        "z = x.isdisjoint(y)\n",
        "print(z)"
      ],
      "metadata": {
        "colab": {
          "base_uri": "https://localhost:8080/"
        },
        "id": "pj9FxyXNZiEe",
        "outputId": "785f73be-8165-4bb8-aff4-2bc5f3c2cc6d"
      },
      "execution_count": 69,
      "outputs": [
        {
          "output_type": "stream",
          "name": "stdout",
          "text": [
            "True\n"
          ]
        }
      ]
    },
    {
      "cell_type": "markdown",
      "source": [
        "**issuperset()**\n",
        "\n",
        " Returns whether this set contains another set or not."
      ],
      "metadata": {
        "id": "TDfTLYeBZ9Ub"
      }
    },
    {
      "cell_type": "code",
      "source": [
        "x = {\"hima\",\"Priya\",\"Ambika\",\"Rahul\",\"Manoja\"}\n",
        "y = {\"hima\",\"Rahul\",\"Priya\"}\n",
        "z = x.issuperset(y)\n",
        "print(z)\n"
      ],
      "metadata": {
        "colab": {
          "base_uri": "https://localhost:8080/"
        },
        "id": "iA5XrRiYaD9d",
        "outputId": "94ef967f-31bc-461c-e49b-5b1d5e05faff"
      },
      "execution_count": 71,
      "outputs": [
        {
          "output_type": "stream",
          "name": "stdout",
          "text": [
            "True\n"
          ]
        }
      ]
    },
    {
      "cell_type": "markdown",
      "source": [
        "**intersection_update()**\n",
        "\n",
        "Remove the items that is not present in both x and y."
      ],
      "metadata": {
        "id": "So9RcOcobIXx"
      }
    },
    {
      "cell_type": "code",
      "source": [
        "x = {\"apple\", \"banana\", \"cherry\"}\n",
        "y = {\"google\", \"microsoft\", \"apple\"}\n",
        "x.intersection_update(y) \n",
        "print(x)\n",
        "\n"
      ],
      "metadata": {
        "colab": {
          "base_uri": "https://localhost:8080/"
        },
        "id": "LIfwSBpAbRvJ",
        "outputId": "44c3325b-1d17-4939-9e0a-caca517d3bed"
      },
      "execution_count": 77,
      "outputs": [
        {
          "output_type": "stream",
          "name": "stdout",
          "text": [
            "{'apple'}\n"
          ]
        }
      ]
    },
    {
      "cell_type": "markdown",
      "source": [
        "**Dictionaries**\n",
        "\n",
        "Dictionaries are used to store data values in key:value pairs."
      ],
      "metadata": {
        "id": "-3SkckEBcBCy"
      }
    },
    {
      "cell_type": "code",
      "source": [
        "dir(dict)"
      ],
      "metadata": {
        "colab": {
          "base_uri": "https://localhost:8080/"
        },
        "id": "YqTNoV8_cO1S",
        "outputId": "8e3c38c9-abbf-458d-f619-34585d9d5994"
      },
      "execution_count": 80,
      "outputs": [
        {
          "output_type": "execute_result",
          "data": {
            "text/plain": [
              "['__class__',\n",
              " '__contains__',\n",
              " '__delattr__',\n",
              " '__delitem__',\n",
              " '__dir__',\n",
              " '__doc__',\n",
              " '__eq__',\n",
              " '__format__',\n",
              " '__ge__',\n",
              " '__getattribute__',\n",
              " '__getitem__',\n",
              " '__gt__',\n",
              " '__hash__',\n",
              " '__init__',\n",
              " '__init_subclass__',\n",
              " '__iter__',\n",
              " '__le__',\n",
              " '__len__',\n",
              " '__lt__',\n",
              " '__ne__',\n",
              " '__new__',\n",
              " '__reduce__',\n",
              " '__reduce_ex__',\n",
              " '__repr__',\n",
              " '__setattr__',\n",
              " '__setitem__',\n",
              " '__sizeof__',\n",
              " '__str__',\n",
              " '__subclasshook__',\n",
              " 'clear',\n",
              " 'copy',\n",
              " 'fromkeys',\n",
              " 'get',\n",
              " 'items',\n",
              " 'keys',\n",
              " 'pop',\n",
              " 'popitem',\n",
              " 'setdefault',\n",
              " 'update',\n",
              " 'values']"
            ]
          },
          "metadata": {},
          "execution_count": 80
        }
      ]
    },
    {
      "cell_type": "code",
      "source": [
        "numeric = {\"brand\": \"Ford\",\"model\": \"Mustang\",\"year\": 1964}\n",
        "print(numeric)"
      ],
      "metadata": {
        "colab": {
          "base_uri": "https://localhost:8080/"
        },
        "id": "wTm0XAGzc0ms",
        "outputId": "5981131b-0c8e-4fda-c627-6c803cd5b187"
      },
      "execution_count": 81,
      "outputs": [
        {
          "output_type": "stream",
          "name": "stdout",
          "text": [
            "{'brand': 'Ford', 'model': 'Mustang', 'year': 1964}\n"
          ]
        }
      ]
    },
    {
      "cell_type": "markdown",
      "source": [
        "**clear()**\n",
        "\n",
        "Remove all the values from the Dictionaries."
      ],
      "metadata": {
        "id": "VTr9Kw8cc_Wb"
      }
    },
    {
      "cell_type": "code",
      "source": [
        "numeric.clear()\n",
        "print(numeric)"
      ],
      "metadata": {
        "colab": {
          "base_uri": "https://localhost:8080/"
        },
        "id": "6sVpgBPddXMq",
        "outputId": "4e55bf2c-8fde-4bd3-d9bd-eec6315e4157"
      },
      "execution_count": 82,
      "outputs": [
        {
          "output_type": "stream",
          "name": "stdout",
          "text": [
            "{}\n"
          ]
        }
      ]
    },
    {
      "cell_type": "markdown",
      "source": [
        "**items()**\n",
        "\n",
        "\n",
        "Returns both key and value in seperate tuple."
      ],
      "metadata": {
        "id": "uXN8EHG0ddW_"
      }
    },
    {
      "cell_type": "code",
      "source": [
        "dict1 = {\"Brand\" : \"Ford\", \"Model\" : \"Mustang\", \"Year\" : 1974, \"Auto-transmission\" : False, \"Engine-CC\" : 450.88, 4 : 'Yes', 4.25 : \"No\", True : \"suspension\"}\n",
        "dict1.items()"
      ],
      "metadata": {
        "colab": {
          "base_uri": "https://localhost:8080/"
        },
        "id": "X5egF2O0dc8S",
        "outputId": "2a22e0d7-59cd-4a82-db17-96dc57ca2002"
      },
      "execution_count": 84,
      "outputs": [
        {
          "output_type": "execute_result",
          "data": {
            "text/plain": [
              "dict_items([('Brand', 'Ford'), ('Model', 'Mustang'), ('Year', 1974), ('Auto-transmission', False), ('Engine-CC', 450.88), (4, 'Yes'), (4.25, 'No'), (True, 'suspension')])"
            ]
          },
          "metadata": {},
          "execution_count": 84
        }
      ]
    },
    {
      "cell_type": "markdown",
      "source": [
        "**setdefault()**\n",
        "\n",
        "Returns the value of the item with the specified key."
      ],
      "metadata": {
        "id": "5DcjHu8-ePUc"
      }
    },
    {
      "cell_type": "code",
      "source": [
        "car = {\"brand\": \"Ford\",\"model\": \"Mustang\",\"year\": 1964}\n",
        "x = car.setdefault(\"model\", \"Bronco\")\n",
        "print(x)"
      ],
      "metadata": {
        "colab": {
          "base_uri": "https://localhost:8080/"
        },
        "id": "DYT8rxtDeaZJ",
        "outputId": "60a6cc50-3b89-45c5-ab73-c73944507048"
      },
      "execution_count": 86,
      "outputs": [
        {
          "output_type": "stream",
          "name": "stdout",
          "text": [
            "Mustang\n"
          ]
        }
      ]
    },
    {
      "cell_type": "markdown",
      "source": [
        "**update()**\n",
        "\n",
        "Inserts the specified items to the dictionary."
      ],
      "metadata": {
        "id": "N-anS-jJewBJ"
      }
    },
    {
      "cell_type": "code",
      "source": [
        "keys = { \"Animal1\": \"lion\", \"Animal2\": \"tiger\", \"Animal3\": \"deer\"}\n",
        "keys.update({\"Animal4\":\"monkey\"})\n",
        "keys\n"
      ],
      "metadata": {
        "colab": {
          "base_uri": "https://localhost:8080/"
        },
        "id": "sYIR6F8kfBJE",
        "outputId": "9c32f4d3-5fa0-41bf-f06e-048ffe49dde1"
      },
      "execution_count": 91,
      "outputs": [
        {
          "output_type": "execute_result",
          "data": {
            "text/plain": [
              "{'Animal1': 'lion', 'Animal2': 'tiger', 'Animal3': 'deer', 'Animal4': 'monkey'}"
            ]
          },
          "metadata": {},
          "execution_count": 91
        }
      ]
    },
    {
      "cell_type": "markdown",
      "source": [
        "**copy()**\n",
        "\n",
        "Returns a copy of the specified dictionary."
      ],
      "metadata": {
        "id": "tqT38ZSYgcja"
      }
    },
    {
      "cell_type": "code",
      "source": [
        "num={\"food1\": \"Maggi\", \"food2\": \"briyani\"}\n",
        "raju=num.copy()\n",
        "print(raju)"
      ],
      "metadata": {
        "colab": {
          "base_uri": "https://localhost:8080/"
        },
        "id": "sclGMZ-fgk8C",
        "outputId": "c9846ba7-872e-4a19-fef3-cf4cdcd5ee24"
      },
      "execution_count": 92,
      "outputs": [
        {
          "output_type": "stream",
          "name": "stdout",
          "text": [
            "{'food1': 'Maggi', 'food2': 'briyani'}\n"
          ]
        }
      ]
    },
    {
      "cell_type": "markdown",
      "source": [
        "**fromkeys**\n",
        "\n",
        "Returns a dictionary with the specified keys and the specified value."
      ],
      "metadata": {
        "id": "HBgon84Lg9Tw"
      }
    },
    {
      "cell_type": "code",
      "source": [
        "Q={'key1','key2','key3','key4'}\n",
        "z= 7\n",
        "K = dict.fromkeys(Q, z)\n",
        "print(K)"
      ],
      "metadata": {
        "colab": {
          "base_uri": "https://localhost:8080/"
        },
        "id": "08ThS14ahMix",
        "outputId": "643624c2-7e76-466f-f8f8-6c15cd388f79"
      },
      "execution_count": 93,
      "outputs": [
        {
          "output_type": "stream",
          "name": "stdout",
          "text": [
            "{'key1': 7, 'key4': 7, 'key2': 7, 'key3': 7}\n"
          ]
        }
      ]
    },
    {
      "cell_type": "markdown",
      "source": [
        "**get()**\n",
        "\n",
        "Returns the value of the item with the specified key."
      ],
      "metadata": {
        "id": "t2s289hFh-ng"
      }
    },
    {
      "cell_type": "code",
      "source": [
        "Q={\"key1\": \"Apple\",\"key2\": \"Orange\",\"key3\": \"Banana\"}\n",
        "S=Q.get('key2')\n",
        "print(S)"
      ],
      "metadata": {
        "colab": {
          "base_uri": "https://localhost:8080/"
        },
        "id": "kSMuGc_nijW4",
        "outputId": "5ef6b284-f843-4283-8f2e-0a7f020dcac6"
      },
      "execution_count": 95,
      "outputs": [
        {
          "output_type": "stream",
          "name": "stdout",
          "text": [
            "Orange\n"
          ]
        }
      ]
    },
    {
      "cell_type": "markdown",
      "source": [
        "**values()**\n",
        "\n",
        "Returns a list of all the values in the dictionary."
      ],
      "metadata": {
        "id": "nr8xlyr7jNUP"
      }
    },
    {
      "cell_type": "code",
      "source": [
        "Q={\"key1\": \"Apple\",\"key2\": \"Orange\",\"key3\": \"Banana\"}\n",
        "S=Q.values()\n",
        "print(S)"
      ],
      "metadata": {
        "colab": {
          "base_uri": "https://localhost:8080/"
        },
        "id": "UGAGcyfujlzQ",
        "outputId": "476507db-afed-41b6-f65b-b02b4963c484"
      },
      "execution_count": 96,
      "outputs": [
        {
          "output_type": "stream",
          "name": "stdout",
          "text": [
            "dict_values(['Apple', 'Orange', 'Banana'])\n"
          ]
        }
      ]
    },
    {
      "cell_type": "markdown",
      "source": [
        "**pop()**\n",
        "\n",
        "specified key value will be returned and removed from the dictionary."
      ],
      "metadata": {
        "id": "tSOlLZU1ju_S"
      }
    },
    {
      "cell_type": "code",
      "source": [
        "Q={\"key1\": \"Apple\",\"key2\": \"Orange\",\"key3\": \"Banana\"}\n",
        "Q.pop('key3')\n",
        "print(Q)"
      ],
      "metadata": {
        "colab": {
          "base_uri": "https://localhost:8080/"
        },
        "id": "Nf4kXA9Xj38E",
        "outputId": "4add0dc0-3654-4056-d001-11ad9b8165eb"
      },
      "execution_count": 97,
      "outputs": [
        {
          "output_type": "stream",
          "name": "stdout",
          "text": [
            "{'key1': 'Apple', 'key2': 'Orange'}\n"
          ]
        }
      ]
    },
    {
      "cell_type": "markdown",
      "source": [
        "**keys()**\n",
        "\n",
        "Returns all the keys and only keys."
      ],
      "metadata": {
        "id": "dPLMJ2C3kKsZ"
      }
    },
    {
      "cell_type": "code",
      "source": [
        "Q={\"key1\": \"Apple\",\"key2\": \"Orange\",\"key3\": \"Banana\"}\n",
        "S=Q.keys()\n",
        "print(S)"
      ],
      "metadata": {
        "colab": {
          "base_uri": "https://localhost:8080/"
        },
        "id": "m4LCRaYdkVtL",
        "outputId": "705f5a77-4d19-494f-a9c8-e228b05d6392"
      },
      "execution_count": 99,
      "outputs": [
        {
          "output_type": "stream",
          "name": "stdout",
          "text": [
            "dict_keys(['key1', 'key2', 'key3'])\n"
          ]
        }
      ]
    },
    {
      "cell_type": "markdown",
      "source": [
        "**popitem()**\n",
        "\n",
        "Removes the last inserted key-value pair"
      ],
      "metadata": {
        "id": "tzJ3L9THkqmv"
      }
    },
    {
      "cell_type": "code",
      "source": [
        "Q={\"key1\": \"Apple\",\"key2\": \"Orange\",\"key3\": \"Banana\"}\n",
        "Q.popitem()\n",
        "print(Q)"
      ],
      "metadata": {
        "colab": {
          "base_uri": "https://localhost:8080/"
        },
        "id": "xH9XI0Blkpz8",
        "outputId": "75648437-ee6d-4a20-e85c-894b65b06051"
      },
      "execution_count": 100,
      "outputs": [
        {
          "output_type": "stream",
          "name": "stdout",
          "text": [
            "{'key1': 'Apple', 'key2': 'Orange'}\n"
          ]
        }
      ]
    },
    {
      "cell_type": "markdown",
      "source": [
        "**Tuples**\n",
        "\n",
        "A tuple is a collection which is ordered and unchangeable."
      ],
      "metadata": {
        "id": "nbrb-7Iok-6Q"
      }
    },
    {
      "cell_type": "code",
      "source": [
        "dir(tuple)"
      ],
      "metadata": {
        "colab": {
          "base_uri": "https://localhost:8080/"
        },
        "id": "LLiQWUjslMCR",
        "outputId": "a02ae318-d76e-4dd2-fd3f-1cda44345336"
      },
      "execution_count": 101,
      "outputs": [
        {
          "output_type": "execute_result",
          "data": {
            "text/plain": [
              "['__add__',\n",
              " '__class__',\n",
              " '__contains__',\n",
              " '__delattr__',\n",
              " '__dir__',\n",
              " '__doc__',\n",
              " '__eq__',\n",
              " '__format__',\n",
              " '__ge__',\n",
              " '__getattribute__',\n",
              " '__getitem__',\n",
              " '__getnewargs__',\n",
              " '__gt__',\n",
              " '__hash__',\n",
              " '__init__',\n",
              " '__init_subclass__',\n",
              " '__iter__',\n",
              " '__le__',\n",
              " '__len__',\n",
              " '__lt__',\n",
              " '__mul__',\n",
              " '__ne__',\n",
              " '__new__',\n",
              " '__reduce__',\n",
              " '__reduce_ex__',\n",
              " '__repr__',\n",
              " '__rmul__',\n",
              " '__setattr__',\n",
              " '__sizeof__',\n",
              " '__str__',\n",
              " '__subclasshook__',\n",
              " 'count',\n",
              " 'index']"
            ]
          },
          "metadata": {},
          "execution_count": 101
        }
      ]
    },
    {
      "cell_type": "markdown",
      "source": [
        "**count()**\n",
        "\n",
        "Returns the number of times a specified value that occurs."
      ],
      "metadata": {
        "id": "B2SyZSdRlQQq"
      }
    },
    {
      "cell_type": "code",
      "source": [
        "numbers=(1,2,2,7,3,4,5,4,1,7,8,3)\n",
        "Z=numbers.count(2)\n",
        "print(Z)"
      ],
      "metadata": {
        "colab": {
          "base_uri": "https://localhost:8080/"
        },
        "id": "XJC7caJxlaMa",
        "outputId": "35c8cee8-9499-46b5-d5fc-535ba4f9bdce"
      },
      "execution_count": 106,
      "outputs": [
        {
          "output_type": "stream",
          "name": "stdout",
          "text": [
            "2\n"
          ]
        }
      ]
    },
    {
      "cell_type": "markdown",
      "source": [
        "**index()**\n",
        "\n",
        "Search for the first occurrence of the value and return its position.\n"
      ],
      "metadata": {
        "id": "WrVCNbswmM1-"
      }
    },
    {
      "cell_type": "code",
      "source": [
        "greater = (1, 3, 7, 8, 7, 5, 4, 6, 8, 5)\n",
        "x = greater.index(7)\n",
        "print(x)"
      ],
      "metadata": {
        "colab": {
          "base_uri": "https://localhost:8080/"
        },
        "id": "zlSWJCzBlh6a",
        "outputId": "a6e3abda-2c46-43e9-a5ce-1ac590a887b5"
      },
      "execution_count": 108,
      "outputs": [
        {
          "output_type": "stream",
          "name": "stdout",
          "text": [
            "2\n"
          ]
        }
      ]
    }
  ]
}